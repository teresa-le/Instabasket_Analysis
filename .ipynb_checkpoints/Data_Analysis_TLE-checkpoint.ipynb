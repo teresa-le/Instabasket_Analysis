{
 "cells": [
  {
   "cell_type": "code",
   "execution_count": 14,
   "id": "602d896f",
   "metadata": {},
   "outputs": [],
   "source": [
    "# Import the packages\n",
    "import matplotlib.pyplot as plt\n",
    "import scipy.stats as stats\n",
    "import numpy as np\n",
    "import pandas as pd"
   ]
  },
  {
   "cell_type": "code",
   "execution_count": 2,
   "id": "cd5a29c4",
   "metadata": {},
   "outputs": [
    {
     "name": "stdout",
     "output_type": "stream",
     "text": [
      "        order_id  product_id                                   product_name  \\\n",
      "0              1       49302                               Bulgarian Yogurt   \n",
      "1              1       11109  Organic 4% Milk Fat Whole Milk Cottage Cheese   \n",
      "2              1       10246                          Organic Celery Hearts   \n",
      "3              1       49683                                 Cucumber Kirby   \n",
      "4              1       43633           Lightly Smoked Sardines in Olive Oil   \n",
      "...          ...         ...                                            ...   \n",
      "984965    100000       30169        Total 2% All Natural Plain Greek Yogurt   \n",
      "984966    100000       38734                           Wheat Sandwich Thins   \n",
      "984967    100000       36759         Unscented Long Lasting Stick Deodorant   \n",
      "984968    100000       37107                                   Ground Cumin   \n",
      "984969    100000       31506                         Extra Virgin Olive Oil   \n",
      "\n",
      "        aisle_id                 aisle  department_id     department  \n",
      "0            120                yogurt             16     dairy eggs  \n",
      "1            108  other creams cheeses             16     dairy eggs  \n",
      "2             83      fresh vegetables              4        produce  \n",
      "3             83      fresh vegetables              4        produce  \n",
      "4             95   canned meat seafood             15   canned goods  \n",
      "...          ...                   ...            ...            ...  \n",
      "984965       120                yogurt             16     dairy eggs  \n",
      "984966       128  tortillas flat bread              3         bakery  \n",
      "984967        80            deodorants             11  personal care  \n",
      "984968       104     spices seasonings             13         pantry  \n",
      "984969        19         oils vinegars             13         pantry  \n",
      "\n",
      "[984970 rows x 7 columns]\n"
     ]
    }
   ],
   "source": [
    "# load the data\n",
    "file_path = r'C:\\Users\\Teresa - School\\Documents\\Projects\\Rotman_Datathon_23\\clean_mma_mart.csv'\n",
    "\n",
    "mma_mart = pd.read_csv(file_path)\n",
    "\n",
    "# Preview the data\n",
    "print(mma_mart)"
   ]
  },
  {
   "cell_type": "code",
   "execution_count": 6,
   "id": "af13f4ba",
   "metadata": {},
   "outputs": [
    {
     "name": "stdout",
     "output_type": "stream",
     "text": [
      "Count of distinct orders: 97828\n",
      "Count of distinct products: 34552\n",
      "Count of distinct aisles: 133\n",
      "Count of distinct departments: 20\n"
     ]
    }
   ],
   "source": [
    "# Count the number of orders \n",
    "distinct_orders = mma_mart['order_id'].nunique()\n",
    "print(\"Count of distinct orders:\", distinct_orders)\n",
    "\n",
    "# Count the number of products\n",
    "distinct_products = mma_mart['product_name'].nunique()\n",
    "print(\"Count of distinct products:\",distinct_products)\n",
    "\n",
    "# Count the number of aisles\n",
    "distinct_aisles = mma_mart['aisle_id'].nunique()\n",
    "print(\"Count of distinct aisles:\", distinct_aisles)\n",
    "\n",
    "# Count the number of departments\n",
    "distinct_dept = mma_mart['department_id'].nunique()\n",
    "print(\"Count of distinct departments:\", distinct_dept)"
   ]
  },
  {
   "cell_type": "code",
   "execution_count": 13,
   "id": "68cabcd2",
   "metadata": {},
   "outputs": [
    {
     "name": "stdout",
     "output_type": "stream",
     "text": [
      "Average Number of Products by Order: 10.068385329353559\n",
      "Average Number of Aisles by Order: 7.239910863965327\n",
      "Average Number of Departments by Order: 4.718485505172343\n"
     ]
    }
   ],
   "source": [
    "# Calculate the average number of of products by order\n",
    "avg_products_by_order = mma_mart.groupby('order_id')['product_name'].nunique().mean()\n",
    "print(\"Average Number of Products by Order:\", avg_products_by_order)\n",
    "\n",
    "# Calculate the average number of aisles by order \n",
    "avg_aisles_by_order = mma_mart.groupby('order_id')['aisle_id'].nunique().mean()\n",
    "print(\"Average Number of Aisles by Order:\", avg_aisles_by_order)\n",
    "\n",
    "# Calculate the average number of departments by order\n",
    "avg_dept_by_order = mma_mart.groupby('order_id')['department_id'].nunique().mean()\n",
    "print(\"Average Number of Departments by Order:\", avg_dept_by_order)"
   ]
  },
  {
   "cell_type": "code",
   "execution_count": 33,
   "id": "af7698a9",
   "metadata": {},
   "outputs": [
    {
     "name": "stdout",
     "output_type": "stream",
     "text": [
      "Banana                                         14494\n",
      "Bag of Organic Bananas                         11694\n",
      "Organic Strawberries                            8081\n",
      "Organic Baby Spinach                            7369\n",
      "Organic Hass Avocado                            6411\n",
      "                                               ...  \n",
      "Multigrain Pita Chips                            166\n",
      "Frosted Mini-Wheats Original Cereal              165\n",
      "Crushed Tomatoes With Basil                      165\n",
      "Naked Green Machine Boosted Juice Smoothie       165\n",
      "Cannellini White Kidney Beans No Salt Added      165\n",
      "Name: product_name, Length: 1000, dtype: int64\n"
     ]
    }
   ],
   "source": [
    "# Count the number of times a product was purchased\n",
    "product_counts = mma_mart['product_name'].value_counts()\n",
    "\n",
    "# Take the top 1000 products \n",
    "top_products = product_counts.head(1000)\n",
    "print(top_products)"
   ]
  },
  {
   "cell_type": "code",
   "execution_count": 34,
   "id": "3c978a24",
   "metadata": {},
   "outputs": [
    {
     "name": "stdout",
     "output_type": "stream",
     "text": [
      "['Banana', 'Bag of Organic Bananas', 'Organic Strawberries', 'Organic Baby Spinach', 'Organic Hass Avocado', 'Organic Avocado', 'Large Lemon', 'Strawberries', 'Limes', 'Organic Raspberries', 'Organic Whole Milk', 'Organic Yellow Onion', 'Organic Garlic', 'Organic Zucchini', 'Organic Blueberries', 'Cucumber Kirby', 'Organic Lemon', 'Organic Fuji Apple', 'Apple Honeycrisp Organic', 'Organic Grape Tomatoes', 'Seedless Red Grapes', 'Organic Cucumber', 'Honeycrisp Apple', 'Organic Half & Half', 'Organic Baby Carrots', 'Organic Gala Apples', 'Organic Large Extra Fancy Fuji Apple', 'Sparkling Water Grapefruit', 'Carrots', 'Yellow Onions', 'Organic Baby Arugula', 'Fresh Cauliflower', 'Organic Small Bunch Celery', 'Original Hummus', 'Organic Cilantro', 'Michigan Organic Kale', 'Half & Half', 'Organic Red Onion', 'Asparagus', 'Organic Tomato Cluster', 'Organic Blackberries', '100% Whole Wheat Bread', 'Organic Italian Parsley Bunch', 'Organic Whole String Cheese', 'Organic Red Bell Pepper', 'Raspberries', 'Blueberries', 'Organic Granny Smith Apple', 'Red Peppers', 'Organic Peeled Whole Baby Carrots', 'Organic Unsweetened Almond Milk', 'Organic Garnet Sweet Potato (Yam)', 'Spring Water', 'Red Vine Tomato', 'Organic Ginger Root', 'Green Bell Pepper', 'Hass Avocados', \"Organic D'Anjou Pears\", 'Boneless Skinless Chicken Breasts', 'Organic Kiwi', 'Extra Virgin Olive Oil', 'Small Hass Avocado', 'Unsweetened Almondmilk', 'Organic Reduced Fat 2% Milk', 'Grated Parmesan', 'Bunched Cilantro', 'Lime Sparkling Water', 'Broccoli Crown', 'Sparkling Natural Mineral Water', 'Organic Lacinato (Dinosaur) Kale', 'Organic Navel Orange', 'Uncured Genoa Salami', 'Jalapeno Peppers', 'Red Onion', 'Roma Tomato', 'Organic Grade A Free Range Large Brown Eggs', 'Large Alfresco Eggs', 'Clementines, Bag', 'Organic Bartlett Pear', 'Organic Broccoli', 'Organic Black Beans', 'Orange Bell Pepper', '100% Raw Coconut Water', '2% Reduced Fat Milk', 'Grape White/Green Seedless', 'Organic Romaine Lettuce', 'Garlic', 'Whole Milk', 'Unsweetened Original Almond Breeze Almond Milk', 'Soda', 'Shredded Parmesan', 'Unsalted Butter', 'Granny Smith Apples', 'Pure Irish Butter', 'Bartlett Pears', 'Organic Reduced Fat Milk', 'Organic Carrot Bunch', 'Organic Broccoli Florets', 'Organic Large Brown Grade AA Cage Free Eggs', 'Organic Spring Mix', 'Organic Sticks Low Moisture Part Skim Mozzarella String Cheese', 'Organic Baby Broccoli', 'Italian Sparkling Mineral Water', 'Sparkling Lemon Water', 'Organic Whole Strawberries', 'Feta Cheese Crumbles', 'Organic Russet Potato', 'Organic Extra Firm Tofu', 'Whipped Cream Cheese', 'Total 2% with Strawberry Lowfat Greek Strained Yogurt', 'Organic Roma Tomato', 'Clementines', 'Frozen Organic Wild Blueberries', 'Organic Garbanzo Beans', 'Russet Potato', 'Vanilla Almond Breeze Almond Milk', 'Fat Free Milk', 'Sharp Cheddar Cheese', 'Organic Roasted Turkey Breast', 'No Salt Added Black Beans', 'Organic Red Radish, Bunch', 'Pure Sparkling Water', 'Organic Basil', 'Green Onions', 'Shredded Mild Cheddar Cheese', 'Romaine Hearts', 'Red Raspberries', 'Total 0% Nonfat Greek Yogurt', 'Green Beans', 'Organic Milk', 'Organic Coconut Milk', 'Unsweetened Vanilla Almond Milk', '100% Recycled Paper Towels', 'Total 0% Greek Yogurt', 'Ground Turkey Breast', 'Organic Sour Cream', 'Organic Fat Free Milk', 'Watermelon Chunks', 'Honey Nut Cheerios', 'Total Greek Strained Yogurt', 'Organic Celery Hearts', 'Yellow Bell Pepper', 'Organic Large Grade AA Brown Eggs', 'Original Orange Juice', 'Organic Hothouse Cucumbers', 'Lightly Salted Baked Snap Pea Crisps', 'Cantaloupe', 'Fresh Ginger Root', 'Organic Bread with 21 Whole Grains', 'Organic Romaine', 'Organic Heavy Whipping Cream', 'Organic White Onions', 'Baby Spinach', 'Total 2% All Natural Greek Strained Yogurt with Honey', 'Pineapple Chunks', 'Blackberries', 'Organic 2% Reduced Fat Milk', 'Organic Bell Pepper', 'Gala Apples', 'Organic Diced Tomatoes', 'Boneless Skinless Chicken Breast', 'Organic Bosc Pear', 'Sour Cream', 'Cherubs Heavenly Salad Tomatoes', 'Creamy Almond Butter', 'Organic Raw Kombucha Gingerade', 'Brussels Sprouts', 'Organic Unsalted Butter', 'Shredded Mozzarella', 'Total 2% Lowfat Greek Strained Yogurt With Blueberry', 'Organic Banana', 'Organic Green Seedless Grapes', 'Uncured Hickory Smoked Sunday Bacon', 'Large Grapefruit', 'Unsalted Pure Irish Butter', 'Peach Pear Flavored Sparkling Water', 'Organic Green Cabbage', 'Organic Yellow Peaches', 'Milk, Organic, Vitamin D', 'Marinara Sauce', 'YoKids Squeezers Organic Low-Fat Yogurt, Strawberry', 'Natural Spring Water', 'Organic Spring Mix Salad', 'Electrolyte Enhanced Water', 'Organic Jalapeno Pepper', 'Organic Egg Whites', 'Creamy Peanut Butter', 'Sweet Onion', 'Total 2% Lowfat Greek Strained Yogurt with Peach', 'Organic Shredded Carrots', 'Lemonade', 'Organic Baby Rainbow Carrots', 'Organic Butternut Squash', 'Organic Old Fashioned Rolled Oats', 'Heavy Whipping Cream', 'Organic Leek', 'Organic Frozen Peas', 'Organic Large Green Asparagus', 'Organic Thyme', 'European Cucumber', 'Sparkling Mineral Water', 'Original No Pulp 100% Florida Orange Juice', 'Salted Butter', 'Organic Baby Spinach Salad', 'Organic Broccoli Crowns', 'Icelandic Style Skyr Blueberry Non-fat Yogurt', 'Organic Yams', 'Chicken & Maple Breakfast Sausage', 'Organic American Cheese Singles', 'Organic Mexican Blend Finely Shredded Cheese', 'Organic Shredded Mozzarella', 'Oven Roasted Turkey Breast', 'Organic Mint', 'Air Chilled Organic Boneless Skinless Chicken Breasts', 'Hass Avocado', 'Total 2% Greek Strained Yogurt with Cherry 5.3 oz', 'Pure Coconut Water', 'Sustainably Soft Bath Tissue', 'Ezekiel 4:9 Bread Organic Sprouted Whole Grain', 'Organic Unsweetened Vanilla Almond Milk', 'Fridge Pack Cola', 'Guacamole', 'Organic Tomato Paste', 'Globe Eggplant', 'White Corn', 'Mango Chunks', 'Sea Salt Pita Chips', 'Roasted Turkey Breast', 'White Onion', 'Organic Baby Kale', 'Organic Creamy Peanut Butter', 'Macaroni & Cheese', 'Shallot', 'Roasted Red Pepper Hummus', 'Reduced Fat 2% Milk', 'Asparation/Broccolini/Baby Broccoli', 'Total 2% Lowfat Plain Greek Yogurt', 'Organic Low Sodium Chicken Broth', 'Trilogy Kombucha Drink', 'Sparkling Water Berry', 'Vanilla Skyr Nonfat Yogurt', 'Orange Juice', 'Original Veggie Straws', 'Organic Tomato Basil Pasta Sauce', 'Total 2% All Natural Low Fat 2% Milkfat Greek Strained Yogurt', 'Lemon Hummus', 'Basil Pesto', 'Organic AppleApple', 'Organic Ketchup', 'Spinach', 'Sourdough Bread', 'Total 2% All Natural Plain Greek Yogurt', 'Organic Beef Hot Dogs', 'Frozen Broccoli Florets', 'Large Yellow Flesh Nectarine', 'Organic Snipped Green Beans', 'Raisin Bran Cereal', 'Spaghetti', 'Organic Grade A Large Brown Eggs', 'Organic Dill', 'XL Emerald White Seedless Grapes', 'Pretzel Crisps Original Deli Style Pretzel Crackers', 'Baby Cucumbers', 'Non Fat Raspberry Yogurt', 'Organic Large Brown Eggs', 'Berry Medley', 'Black Beans', 'Sinfully Sweet Campari Tomatoes', 'Original Nooks & Crannies English Muffins', 'Mild Salsa', '2% Reduced Fat Organic Milk', 'Organic Rainbow Carrots', 'Tilapia Filet', 'Strawberry Preserves', 'Organic Whole Grassmilk Milk', 'Vine Ripe Tomatoes', 'Original Pure Creamy Almond Milk', 'Natural Chicken & Sage Breakfast Sausage', 'Super Greens Salad', 'Seedless Small Watermelon', 'Organic Medium Salsa', 'Organic Salted Butter', 'Total 0% Nonfat Plain Greek Yogurt', 'Organic Green Leaf Lettuce', 'Organic Red Cabbage', 'Mini Original Babybel Cheese', 'Organic Brown Rice', 'Bing Cherries', 'Grapefruit Sparkling Water', 'Distilled Water', 'Organic Lowfat 1% Milk', 'Organic Iceberg Lettuce', 'Natural Artesian Water', 'Corn Tortillas', 'Organic Red Delicious Apple', 'Orange Sparkling Water', 'Organic Bunch Beets', 'Organic Turkey Bacon', 'Gluten Free Whole Grain Bread', 'Sea Salt & Vinegar Potato Chips', 'Whole Milk Plain Yogurt', 'Skim Milk', 'Organic Whole Grain Wheat English Muffins', 'Diced Tomatoes', 'Organic Tomato Sauce', 'Organic Tortilla Chips', 'Seedless Cucumbers', 'Super Spinach! Baby Spinach, Baby Bok Choy, Sweet Baby Kale', 'Celery Hearts', 'Trail Mix', 'Organic Large Grade A Brown Eggs', 'Organic Whole Milk with DHA Omega-3', 'Organic Bunny Fruit Snacks Berry Patch', 'Organic Spinach Bunch', 'Chocolate Chip Cookies', 'Organic Plain Whole Milk Yogurt', 'Goat Cheese Crumbles', 'Cage Free Brown Eggs-Large, Grade A', 'Plain Greek Yogurt', 'Baked Aged White Cheddar Rice and Corn Puffs', 'Organic Original Hommus', '0% Greek Strained Yogurt', 'Organic Good Seed Bread', 'Chocolate Ice Cream', 'Organic Beef Uncured Hot Dogs', 'Organic Romaine Hearts', 'Uncured Slow Cooked Ham', 'Ginger Ale', 'Organic Blue Corn Tortilla Chips', 'Organic Free Range Chicken Broth', 'Organic Spaghetti Squash', 'Tomato Ketchup', 'I Heart Baby Kale', 'Cinnamon Rolls with Icing', 'Water', 'Almonds & Sea Salt in Dark Chocolate', 'English Seedless Cucumber', 'Light Brown Sugar', 'Organic Extra Virgin Olive Oil', '1% Lowfat Milk', 'Organic Sunday Bacon', 'Flat Parsley, Bunch', 'Organic Extra Large Grade AA Brown Eggs', 'Organic Milk Reduced Fat, 2% Milkfat', 'Organic Butterhead (Boston, Butter, Bibb) Lettuce', 'Sparkling Water', 'Organic Plain Greek Whole Milk Yogurt', 'Organic Cheese Frozen Pizza', 'Tomato Sauce', 'Grade A Large White Eggs', 'Organic Whole Kernel Sweet Corn No Salt Added', 'Cream Cheese Spread', 'Organic Cripps Pink Apples', 'Organic Summer Strawberry Bunny Fruit Snacks', 'Organic Chicken & Apple Sausage', 'Oven Roasted Turkey', 'Sugar Snap Peas', 'Green Seedless Grapes', 'Sea Salt Potato Chips', 'Packaged Grape Tomatoes', 'Italian Extra Virgin Olive Oil', 'Classic Hummus', '85% Lean Ground Beef', '2% Reduced Fat DHA Omega-3 Reduced Fat Milk', 'Whole Almonds', 'Hint Of Sea Salt Almond Nut Thins', 'Crushed Tomatoes', 'Potato Yukon Gold Organic', 'Honeycrisp Apples', 'Kids Organic Chocolate Chip ZBars', 'Organic Whole Cashews', 'Kale Greens', 'Organic Roasted Sliced Chicken Breast', 'Total 0% Raspberry Yogurt', 'Cereal', 'Toasted Coconut Almondmilk Blend', 'Green Tea With Ginseng and Honey', 'Apples', 'Tomato Paste', 'Baby Arugula', 'Organic 1% Low Fat Milk', 'Crackers Cheddar Bunnies Snack Packs', 'Organic Thompson Seedless Raisins', 'Cola', 'Organic Baby Kale Mix', 'Organic Cauliflower', 'Organic Whipped Naturally Buttery Spread', 'Vanilla Pure Almond Milk', 'Aluminum Foil', 'Alpine Spring Water', 'Organic Honey Sweet Whole Wheat Bread', 'Vanilla Ice Cream', 'Organic Nectarine', 'Sweet Kale Salad Mix', 'Organic Chicken Stock', 'Organic Chopped Spinach', 'Mandarin Oranges', 'Organic Red On the Vine Tomato', '100 Calorie  Per Bag Popcorn', 'YoKids Blueberry & Strawberry/Vanilla Yogurt', 'Iceberg Lettuce', 'Colby Cheese Sticks', 'Almond Breeze Original Almond Milk', 'Green Peas', 'Smartwater', 'Natural Premium Coconut Water', 'Rainbow Bell Peppers', 'Organic Fresh Basil', 'Organic 21 Grain Thin Sliced Bread', 'Organic Small Curd Cottage Cheese', 'Organic Uncured Sliced Black Forest Ham', 'Organic Vegetable Broth', 'Firm Tofu', 'Pita Chips Simply Naked', 'Organic Vanilla Almond Milk', 'Plain Bagels', 'Vanilla Unsweetened Almond Milk', 'Romaine Lettuce', 'Organic Pinto Beans', 'Large Brown Eggs', 'Organic Boneless Skinless Chicken Breast', 'Organic Whole Wheat Bread', 'Fresh Mozzarella Ball', 'Natural Artisan Water', 'Organic Yellow Squash', 'Whole Wheat Bread', 'Vitamin D Organic Whole Milk', 'Reduced Fat Milk 100% Lactose Free', 'Organic Dark Chocolate Peanut Butter Cups', 'Organic Macaroni Shells & Real Aged Cheddar', 'Pure & Natural Sour Cream', 'Organic Apple Juice', 'Fresh CA Grown Eggs', 'Organic Red Chard Greens', 'Total 0% with Honey Nonfat Greek Strained Yogurt', 'Original Hot Sauce', 'Yogurt, Strained Low-Fat, Coconut', 'Bunny-Luv Fresh Organic Carrots', 'Organic Sea Salt Roasted Seaweed Snacks', 'Blood Oranges', 'Organic Strawberry Smoothie', 'Kiwi', 'Original Whipped Cream Cheese', 'Medium Navel Orange', 'Mozzarella String Cheese', 'Roasted Pine Nut Hummus', 'Organic Chicken Broth', 'Organic Strawberry Fruit Spread', 'Organic No Salt Added Diced Tomatoes', 'Organic Whipping Cream', 'Mild Cheddar Cheese Sticks', 'Gluten Free Dark Chocolate Chunk Chewy with a Crunch Granola Bars', 'Organic Romaine Leaf', 'Organic Dijon Mustard', 'Aged White Cheddar Baked Rice & Corn Puffs Gluten Free Lunch Packs', 'Organic Original Almond Milk', 'Salted Tub of Butter', 'Organic Low Sodium Vegetable Broth', 'Thin Crust Pepperoni Pizza', 'Organic Multigrain Waffles', 'Organic Italian Salad', 'Dried Mango', 'Marinara Pasta Sauce', 'Organic Mixed Vegetables', 'Organic Medjool Dates', 'Mint', 'Collard Greens', 'Sliced Black Olives', 'Cheddar Bunnies Snack Crackers', 'Blackberry Cucumber Sparkling Water', 'Original Semisoft Cheese', 'Honey Yoghurt', 'Coke Classic', 'Organic Chicken Strips', 'Organic Vanilla Extract', 'Fat Free Strawberry Yogurt', 'Organic Frozen Mango Chunks', 'Organic Sliced Peaches', 'Real Mayonnaise', 'Purified Water', 'Authentic French Brioche Hamburger Buns', 'Pulp Free Orange Juice', 'ALMONDBREEZE UNSWEETENED', 'Organic Quick Oats', 'Cran Raspberry Sparkling Water', 'Extra Fancy Unsalted Mixed Nuts', 'Boneless Skinless Chicken Thighs', 'Strawberry Rhubarb Yoghurt', 'Lime', 'Organic Golden Delicious Apple', 'Organic Cream Cheese Bar', 'Organic Orange Bell Pepper', 'Gluten Free Chocolate Chip Cookies', 'Nonfat Icelandic Style Strawberry Yogurt', 'Dha Omega 3 Reduced Fat 2% Milk', 'Blueberry Yoghurt', 'Chopped Walnuts', 'Butternut Squash', 'Whole Milk Ricotta Cheese', 'Fat Free Skim Milk', 'Red Potatoes', 'Walnut Halves & Pieces', 'Medium Cheddar Cheese Block', 'Black Plum', 'Mixed Fruit Fruit Snacks', 'Naturals Chicken Nuggets', 'Red Seedless Grapes', 'Cage Free Large White Eggs', 'Organic Rosemary', 'Organic  Whole Milk', 'Raspberry Preserves', 'Bicolor Sweet Corn', 'Canola Oil', 'Organic Red Potato', 'Organic Braeburn Apple', 'Roasted Turkey', 'Reduced Fat Milk', 'No Pulp Calcium & Vitamin D Pure Orange Juice', 'Crunchy Almond Butter', 'Taco Seasoning', 'Vanilla Skyr Style Yogurt', 'Original Popcorn', 'YoBaby Peach Pear Yogurt', 'Synergy Organic Kombucha Gingerberry', 'Supergreens!', 'Organic English Cucumber', 'Gold Potato', 'Cane Sugar', 'Orange Calcium & Vitamin D Pulp Free', 'Organic Distilled White Vinegar', 'Smoked Turkey Breast Slices', 'Lemon Yogurt', 'Organic Sugar Snap Peas', '1% Low Fat Milk', 'Lemon Sparkling Water', 'Organic Orange Juice', 'Dressing, Jersey Sweet Onion, Calorie Free', 'Corn Chips', 'Unrefined Virgin Coconut Oil', 'Traditional Hummus', 'Whole Organic Omega 3 Milk', 'Boomchickapop Sea Salt Popcorn', 'Natural Free & Clear Dish Liquid', 'Almond Nut & Rice Cracker Snacks', 'Organic Chicken Thighs', 'Organic Greek Whole Milk Blended Vanilla Bean Yogurt', 'Penne Rigate', 'Organic Extra Large Brown Eggs', 'Zero Calorie Cola', 'Tommy/Kent/Keitt/Haden Mango', 'Large Greenhouse Tomato', 'French Vanilla Creamer', \"Crunchy Oats 'n Honey Granola Bars\", 'Whole Strawberries', 'Organic Sliced White Mushrooms', 'Non Fat Acai & Mixed Berries Yogurt', 'Organic Cinnamon Crunch Cereal', 'Organic Raw Unfiltered Apple Cider Vinegar', 'Low Fat 1% Milk', 'Organic Mayonnaise', 'Grade A Large Eggs Cage Free Omega 3', 'Gluten Free 7 Grain Bread', 'Organic Lemonade', 'Macaroni Shells & White Cheddar Cheese', '93% Ground Beef', 'Apple Cinnamon GoGo Squeez', 'Emmentaler Swiss Slices', 'Chopped Spinach', 'Natural Classic Pork Breakfast Sausage', 'Organic Mango', 'Juice Beverage, Cold Pressed, Kale Apple Ginger Romaine Spinach Cucumber Celery Parsley Lemon', 'YoBaby Blueberry Apple Yogurt', 'Crescent Rolls', 'Chocolate Chip Cookie Dough Ice Cream', 'Naturals Savory Turkey Breakfast Sausage', 'Garlic & Fine Herbs Gournay Cheese', 'Unsweetened Coconut Milk Beverage', 'Honey Greek Yogurt', 'Dairy Free Unsweetened Coconut Milk', 'Raspberry Yoghurt', 'Parsley, Italian (Flat), New England Grown', 'Organic Red Grapes', 'Baby Food Stage 2 Blueberry Pear & Purple Carrot', 'Organic Green Onions', 'Sweet Potato Tortilla Chips', 'Organic Lactose Free Whole Milk', 'Baby Seedless Cucumbers', 'Pesto Tortellini  Bowls', 'Vitamin D Whole Milk', 'All Natural Marinara Sauce', 'Organic Simply Naked Pita Chips', 'Yobaby Organic Plain Yogurt', 'Organic Mountain Forest Amber Honey', 'Coconut Water', 'Apple Juice', 'Grape Tomatoes', 'Apple Cider Vinegar', 'Multigrain Tortilla Chips', 'Spinach Peas & Pear Stage 2 Baby Food', 'White Cheddar Popcorn', 'Organic Short Grain Brown Rice', 'Plain Pre-Sliced Bagels', 'No Pulp Calcium & Vitamin D Pure Premium 100% Pure Orange Juice', 'Red Plums', '100% Pure Pumpkin', 'Red Leaf Lettuce', 'Cold Brew Coffee', 'Organic Lightly Salted Brown Rice Cakes', 'Air Chilled Breaded Chicken Breast Nuggets', 'Honeydew Melon', 'Uncured Black Forest Ham', 'Sweet Potatoes', 'Organic Unbleached All-Purpose Flour', 'Organic Lite Coconut Milk', 'Traditional Plain Greek Yogurt', 'Eggo Homestyle Waffles', 'Organic Shredded Mild Cheddar', 'Organic Chicken Bone Broth', 'Mini Cucumbers', 'Sliced White Mushrooms', 'Spaghetti  No 12', 'Plain Mini Bagels', 'Organic Cannellini Beans', 'Fancy Eggplant', 'Panko Bread Crumbs', 'Organic Penne Rigate', 'Cheese Pizza Snacks', 'Organic Wheat-Free & Gluten-Free Original Crackers', 'White Peach', 'Provolone', 'Organic Cottage Cheese', 'Organic Red Potatoes', 'Oats & Honey Gluten Free Granola', 'Milk, Vitamin D', 'Kiwi Sandia Sparkling Water', 'Organic Sliced Crimini Mushrooms', 'Scoops! Tortilla Chips', 'Organic Homestyle Waffles', 'Organic Long Grain White Rice', 'Uncured Pepperoni', 'Chicken Breast Tenders Breaded', 'Curate Cherry Lime Sparkling Water', 'Yellow Grape Tomatoes', 'Everything Bagels', 'Organic Low Fat Milk', 'Presliced Everything Bagels', 'Organic Muenster Cheese Slices', 'Root Beer', 'Sauvignon Blanc', 'Yukon Gold Potatoes 5lb Bag', 'Premium Pure Cane Granulated Sugar', 'Veggie Chips', 'Organic Lactose Free 1% Lowfat Milk', 'Organic Red Lentils', 'Bunny Pasta with Yummy Cheese Macaroni & Cheese', 'Original Rice Pilaf Mix', 'Lowfat Vanilla Yogurt', 'Thin & Light Tortilla Chips', 'Spaghetti Pasta', 'Dha Omega 3 Vitamin D Milk', 'Organic Bagged Carrots', 'Original Real Vegetable Chips', 'Organic Blueberry Waffles', 'Yogurt, Lowfat, Strawberry', 'Flaky Biscuits', 'Organic Edamame', 'Organic White Cheddar Popcorn', 'YoKids Squeeze! Organic Strawberry Flavor Yogurt', 'Organic Stringles Mozzarella String Cheese', 'California Sourdough Bread', 'Peanut Butter Chocolate Chip Fruit & Nut Food Bar', 'Sonoma Traditional Flour Tortillas 10 Count', 'Garlic Hummus', 'Organic Large Grade AA Omega-3 Eggs', 'Squeeze Tomato Ketchup', '100% Lactose Free Fat Free Milk', 'Original Black Box Tablewater Cracker', 'Applewood Smoked Bacon', 'Shredded Sharp Cheddar Cheese', 'Serrano Chile Peppers', 'Icelandic Style Fat Free Plain Yogurt', 'Passionfruit Sparkling Water', 'Red Mango', 'Vanilla Almond Breeze', 'Organic Beans & Rice Cheddar Cheese Burrito', 'Pure Baking Soda', 'Authentic French Brioche', 'Organic Smoked Turkey Breast', 'White Corn Tortillas', 'Organic Crushed Fire Roasted Tomatoes', 'Shells & Real Aged Cheddar Macaroni & Cheese', 'Cherrios Honey Nut', 'Organic Whole Wheat Fusilli', 'ZBar Organic Chocolate Brownie Energy Snack', 'Natural Sharp Cheddar Sliced Cheese', 'Organic Hot House Tomato', 'Grated Parmesan Cheese', 'Celery Sticks', 'Light Semisoft Cheese', 'Lowfat Small Curd Cottage Cheese', 'Organic Baby Bella Mushrooms', 'Wild Berry Smoothie', 'Kidz All Natural Baked Chicken Nuggets', 'Dark Chocolate Pretzels with Sea Salt', 'Jalapeno Hummus', 'Popcorn', 'Fat Free Blueberry Yogurt', 'Cheerios Cereal', 'Large Grade AA Eggs', 'Organic YoKids Smoothie Strawberry Banana Lowfat Yogurt', 'Enlightened Organic Raw Kombucha', 'Organic Dark Sweet Cherries', 'Roasted & Salted Almonds', 'Classic White Bread', 'Purity Farms Ghee Clarified Butter', 'Cucumber & Garlic  Tzatziki', 'Organic Kale Greens', 'Cauliflower Florets', 'Organic YoKids Very Berry Smoothies', 'Mini Seedless Cucumbers', 'Monterey Jack Cheese', 'Raisins', 'Unsalted Cultured Butter', 'Apple Pie Fruit & Nut Food Bar', 'Organic Rainbow Chard Vegetable', 'Soft Pretzel Burger Buns', 'Whole Grain Cheddar Baked Snack Crackers', 'Organic Mango Chunks', 'Organic Purple Kale', '100% Recycled Bathroom Tissue', 'Unsweetened Almond Milk', 'Organic Wheat Square Crackers', 'Organic Free Range Low Sodium Chicken Broth', 'Ice Cream Sandwiches Vanilla', 'Super Soft Taco Flour Tortillas', 'Original Rotisserie Chicken', 'Florida Orange Juice With Calcium & Vitamin D', 'Organic Cut Green Beans', 'Goldfish Cheddar Baked Snack Crackers', 'Seven Grain Crispy Tenders', 'Half And Half Cream', 'Fusilli No. 34', 'Roasted Salted Cashews', 'Backyard Barbeque Potato Chips', 'Arancita Rossa', 'Thick & Crispy Tortilla Chips', 'Garnet Sweet Potato (Yam)', 'Grade AA Large White Eggs', 'Pineapple', 'Broccoli Florettes', 'Organic Chicken Noodle Soup', 'Whole Wheat English Muffins', 'Sweet Potato Yam', 'Diet Coke', 'Lactose Free 2% Reduced Fat Milk', 'Organic Raw Multigreen Kobmbucha', 'Grilled Chicken Breast', 'Sweet Baguette', 'Organic & Raw Strawberry Serenity Kombucha', 'Liquid Egg Whites', 'Gluten Free White Sandwich Bread', 'Bean & Cheese Burrito', 'Pink Lady (Cripps) Apple', 'Organic Greek Plain Nonfat Yogurt', 'Penne Pasta', 'Original Beef Jerky', '100% Natural Spring Water', 'Peach on the Bottom Nonfat Greek Yogurt', 'Broccoli & Cheddar Bake Meal Bowl', 'Mixed Berries Whole Milk Icelandic Style Skyr Yogurt', 'Special Reserve Extra Sharp Cheddar Cheese', 'Salt & Pepper Krinkle Chips', 'Poblano Pepper', 'Mini Babybel Light Semisoft Edam Cheeses', 'Lemon Verbena Dish Soap', 'White Sliced Mushrooms', 'Margherita Pizza', 'Ranch Dressing', 'Philadelphia Original Cream Cheese', 'YoKids Strawberry Banana/Strawberry Yogurt', 'Organic Whole Crimini Mushrooms', 'Classic Almond Butter', 'Strawberry on the Bottom Nonfat Greek Yogurt', 'Gluten Free Blueberry Waffles', 'New Orleans Iced Coffee', 'Ancient Grain Original Granola', 'Organic Rolled Oats', 'Hot Dog Buns', 'Sweet Onions', 'Mediterranean Mint Gelato', 'Peanut Butter Creamy With Salt', 'Large Burrito Flour Tortillas', 'Basil', 'Sea Salt Caramel Gelato', 'Organic Sprouted English Muffin', 'Low Fat Vanilla Yogurt', 'Organic Whole Milk Strawberry Beet Berry Yogurt Pouch', 'Crackers Harvest Whole Wheat', 'Saltine Crackers', 'Low Fat Strawberry Yogurt Tubes', 'Blue Cheese Crumbles', 'Organic Green Beans', 'Organic Mini Sandwich Crackers Peanut Butter', 'Organic Beef Broth', 'Frozen Organic Blueberries', 'Gourmet Tomato Medley', 'Celery', 'Wheat Gluten Free Waffles', 'Crispy Wheat, Crackers', 'Synergy Organic & Raw Cosmic Cranberry', 'Roasted Garlic Hummus', 'Organic Apple Slices', 'Artichokes', 'Premium Unsweetened Iced Tea', 'Organic Low Sodium Chicken Cooking Stock', 'Boneless Skinless Chicken Breast Fillets', 'Gluten Free Peanut Butter Dark Chocolate Chewy With a Crunch Granola Bars', 'Mache Rosettes French Salad Mix', 'Milk, Reduced Fat, 2% Milkfat', 'Sourdough Baguette', 'Plantain Chips', 'Goo Berry Pie Probugs Kefir', 'Select-A-Size White Paper Towels', 'Penne Rigate #41 Pasta', 'Organic Chocolate Chip Chewy Granola Bars', 'Strawberry Ice Cream', 'Cola Soft Drink', 'Gallon Freezer Bags', 'Broccoli & Apple Stage 2 Baby Food', 'Mozzarella Cheese', 'Four Cheese Pasta Sauce', 'Organic Whole White Mushrooms', 'Peanut Butter Cereal', 'Yellow Straightneck Squash', 'Club Soda', 'Organic Green Lentils', 'Grilled Chicken Breast Strips', 'White Sandwich Bread', 'Organic String Cheese', 'Cinnamon Raisin Bread', 'Classic Hummus Family Size', 'Mineral Water', 'Garlic Powder', 'Organic Greek Nonfat Yogurt With Mixed Berries', 'Butter', 'Cheese Pizza', 'Fresh Asparagus', 'Cage Free Grade A Large Brown Eggs', 'Coconut Yoghurt', 'Plain Whole Milk Yogurt', 'French Vanilla Coconut Milk Creamer', 'Peeled Garlic', 'Cherry Pomegranate Greek Yogurt', 'Whole Grain Oat Cereal', 'Grade A Large Brown Eggs', '100% Grated Parmesan Cheese', 'Cauliflower', 'Organic Fuji Apples', 'Salted Sweet Cream Butter', 'Canned Aranciata Orange', 'Gluten Free SpongeBob Spinach Littles', 'Pomegranate', 'Apple Sauce', 'Fresh Cut Golden Sweet Whole Kernel Corn', 'Original Restaurant Style Tortilla Chips', 'Free & Clear Unscented Baby Wipes', 'Diet Ginger Ale All Natural Soda', 'Chicken Pot Pie', 'Curate Melon Pomelo Sparking Water', 'Red Grapefruit', 'Dried Sweetened Cranberries', 'Pitted Dates', 'Cold Brew Coffee Double Espresso with Almond Milk', 'Ultra Soft Facial Tissues', '90% Lean Ground Beef', 'Tart Cherry Yoghurt', 'Energy Drink', 'Cultured Low Fat Buttermilk', 'Organic Mixed Berry Yogurt & Fruit Snack', 'Mild Diced Green Chiles', 'Mini Seedless Watermelon Pack', 'Organic Strawana Probugs Kefir', 'Bread, Country Buttermilk', 'Chicken & Apple Breakfast Sausage', 'Organic Cherries', 'Shredded Hash Browns', 'Flax Plus Organic Pumpkin Flax Granola', 'Half Baked® Ice Cream', 'Honey Wheat Bread', 'Cream Cheese', 'Stage 1 Apples Sweet Potatoes Pumpkin & Blueberries Organic Pureed Baby Food', 'Garlic Couscous', 'Whole White Mushrooms', 'Organic Apple Juice Boxes', 'Organic Yokids Lemonade/Blueberry Variety Pack Yogurt Squeezers Tubes', 'Organic Yellow Mustard', 'Oregano', 'Chicken Broth', 'Hazelnut Spread With Skim Milk & Cocoa', 'Sweet Potato Fries with Sea Salt', 'Strawberry Rhubarb Yogurt', 'Frozen Organic Strawberries', 'Vitamin Water Zero Squeezed Lemonade', 'Classic Soda', 'Goat Cheese Log', 'Organic Milk Chocolate Peanut Butter Cups', 'Organic Spaghetti Pasta', 'Organic Black Plum', 'Organic Shells And White Cheddar', 'Cage Free  100% Liquid Egg Whites', 'Organic Vanilla Bean Ice Cream', 'Black Beans No Salt Added', 'Tortillas, Corn, Organic', 'Drinking Water', 'Cabernet Sauvignon', 'Medium Salsa Roja', 'Peach', 'Chardonnay', 'Freshly Squeezed Orange Juice', 'Broccoli Florets', 'Bok Choy', 'Organic Peeled & Cooked Beets', 'Organic Jasmine Rice', 'Organic Super Fruit Punch Juice Drink', 'Organic Creamy Tomato Soup', 'Total 0% Blueberry Acai Greek Yogurt', 'Organic Berry Blend', 'White Giant Paper Towel Rolls', 'Original Almondmilk', 'Jalapeno Potato Chips', 'Mandarins Bag', 'Iced Oatmeal Cookie Kid Z Bar', 'Organic Greek Lowfat Yogurt With Strawberries', 'Bosc Pear', 'Organic Cane Sugar', 'Beef Franks', 'Four Cheese Thin Crust Pizza', 'Soft Pretzel Mini Buns', 'Americone Dream® Ice Cream', 'Organic Whole Peeled Tomatoes', 'Organic Nonfat Greek Yogurt With Peaches', '100% Pure Apple Juice', 'Angel Hair Pasta', 'Original Instant Oatmeal', 'Tomatoes, Whole Peeled', 'Mint Chip', 'Lavender Hand Soap', 'Philadelphia Cream Cheese Spread', 'Sparkling Clementine Juice', 'Medium Scarlet Raspberries', 'Raspberry Lemonade', 'Sour Cream & Onion Potato Chips', 'Organic Broccoli Crown', 'Boneless And Skinless Chicken Breast', 'Apple Cinnamon Instant Oatmeal', 'Original Puffins Cereal', 'All Natural Apricot Sparkling Water', 'Kids Sensible Foods Broccoli Littles', 'Organic YoBaby Vanilla Yogurt', 'Multigrain Oat Bread', 'Hummus, Hope, Original Recipe', 'Organic Coconut Water', 'Baby Portabella Mushrooms', 'Vanilla Blueberry Clusters With Flax Seeds Granola', 'Traditional Refried Beans', 'Organic Zucchini Spirals', 'Organic Whole Wheat Penne Rigate', 'Organic Marinara Pasta Sauce', 'Organic Genoa Salami', 'Low Fat Plain Yogurt', 'Coke Zero', 'Yotoddler Organic Pear Spinach Mango Yogurt', 'Original Enriched Rice Drink', 'Sprouted Multi-Grain Bread', 'Organic Stoneground Wheat Crackers', 'Gogo Squeez Organic Apple Strawberry Applesauce on the Go', 'Gluten-Free Chicken Nuggets', 'Organic 1% Milk', 'Natural Artesian Bottled Water', 'Spinach Pizza', 'Cold-Brew Black Coffee', 'Shoestring Fries', 'Dark with 70% Cacao Content Organic Chocolate Bar', 'Organic Russet Potato Bag', 'Baby Spinach Salad', 'Organic Orange Fruit Juice', 'Russet Potatoes', '6 OZ LA PANZANELLA CROSTINI ORIGINAL CRACKERS', 'Plain Bagelettes', 'Vodka', 'Milk Chocolate Almonds', 'Oreo Chocolate Sandwich Cookies', 'Tuna Salad', 'Butterhead Lettuce', 'Sliced Prosciutto', 'Multigrain Pita Chips', 'Frosted Mini-Wheats Original Cereal', 'Crushed Tomatoes With Basil', 'Naked Green Machine Boosted Juice Smoothie', 'Cannellini White Kidney Beans No Salt Added']\n"
     ]
    }
   ],
   "source": [
    "# Extract the names of the top 1000 products \n",
    "top_product_names = top_products.index.tolist()\n",
    "print(top_product_names)"
   ]
  },
  {
   "cell_type": "code",
   "execution_count": 46,
   "id": "af167a67",
   "metadata": {},
   "outputs": [
    {
     "data": {
      "text/plain": [
       "array([     1,      2,      3, ...,  99997,  99999, 100000], dtype=int64)"
      ]
     },
     "execution_count": 46,
     "metadata": {},
     "output_type": "execute_result"
    }
   ],
   "source": [
    "# Extract the number of orders that contain a top product -- 5.45% \n",
    "orders_with_top_products = mma_mart[mma_mart['product_name'].isin(top_product_names)]['order_id'].unique()"
   ]
  },
  {
   "cell_type": "code",
   "execution_count": 55,
   "id": "f7a941b6",
   "metadata": {},
   "outputs": [
    {
     "name": "stdout",
     "output_type": "stream",
     "text": [
      "        order_id  product_id                                   product_name  \\\n",
      "68             7       46802                               Pineapple Chunks   \n",
      "100           11       30162         Teriyaki & Pineapple Chicken Meatballs   \n",
      "114           12       38050  All Natural Boneless Skinless Chicken Breasts   \n",
      "118           12       29471                        Combination Pizza Rolls   \n",
      "135           14         162                 Organic Mini Homestyle Waffles   \n",
      "...          ...         ...                                            ...   \n",
      "984887     99993       43749                 Organic Ice Cream Vanilla Bean   \n",
      "984891     99993        5537   Dairy Free Coconut Milk Frozen Dessert Minis   \n",
      "984895     99993       26128                           Organic Mango Chunks   \n",
      "984921     99996        9434                            Bag of Large Lemons   \n",
      "984926     99996       32691                              Vanilla Ice Cream   \n",
      "\n",
      "        aisle_id                    aisle  department_id department  \n",
      "68           116           frozen produce              1     frozen  \n",
      "100           38             frozen meals              1     frozen  \n",
      "114           34      frozen meat seafood              1     frozen  \n",
      "118          129  frozen appetizers sides              1     frozen  \n",
      "135           52         frozen breakfast              1     frozen  \n",
      "...          ...                      ...            ...        ...  \n",
      "984887        37            ice cream ice              1     frozen  \n",
      "984891        37            ice cream ice              1     frozen  \n",
      "984895       116           frozen produce              1     frozen  \n",
      "984921        34      frozen meat seafood              1     frozen  \n",
      "984926        37            ice cream ice              1     frozen  \n",
      "\n",
      "[68202 rows x 7 columns]\n"
     ]
    }
   ],
   "source": [
    "# Extract the frozen foods  \n",
    "frozen_foods = mma_mart[mma_mart['department'].str.contains('frozen')]\n",
    "print(frozen_foods)"
   ]
  },
  {
   "cell_type": "code",
   "execution_count": 57,
   "id": "3dbd1e41",
   "metadata": {},
   "outputs": [
    {
     "name": "stdout",
     "output_type": "stream",
     "text": [
      "      product_id                                       product_name  count\n",
      "607         9076                                        Blueberries   1759\n",
      "1323       20995                           Organic Broccoli Florets   1040\n",
      "1542       24489                         Organic Whole Strawberries    983\n",
      "1147       17948                    Frozen Organic Wild Blueberries    921\n",
      "2945       46802                                   Pineapple Chunks    701\n",
      "...          ...                                                ...    ...\n",
      "2303       36825                       Cookie Dough Grand Ice Cream      1\n",
      "1547       24558       Strawberry Snickerdoole Ice Cream Sandwiches      1\n",
      "484         7002      Chicken, Broccoli & Cheddar Frozen Sandwiches      1\n",
      "2717       43493                Boneless Pork Rib Shaped Potty Meal      1\n",
      "2606       41835  4 Pull-Apart Dipping Strips Four Cheese with M...      1\n",
      "\n",
      "[3127 rows x 3 columns]\n"
     ]
    }
   ],
   "source": [
    "# Count the number of occurrences of each product in descending order and print the results \n",
    "frozen_product_counts = frozen_foods.groupby(['product_id','product_name']).size().reset_index(name='count').sort_values(by='count', ascending=False)\n",
    "\n",
    "print(frozen_product_counts)"
   ]
  },
  {
   "cell_type": "code",
   "execution_count": 58,
   "id": "90a47f8c",
   "metadata": {},
   "outputs": [],
   "source": [
    "# Extract the top 100 frozen products sold \n",
    "top_frozen_products_sold = frozen_product_counts.head(100)\n",
    "\n",
    "# Create a csv \n",
    "top_frozen_products_sold.to_csv(\"top_frozen_products.csv\", encoding='utf8', index=False)"
   ]
  },
  {
   "cell_type": "code",
   "execution_count": 62,
   "id": "402613b3",
   "metadata": {},
   "outputs": [
    {
     "name": "stdout",
     "output_type": "stream",
     "text": [
      "        order_id  product_id                                   product_name  \\\n",
      "0              1       49302                               Bulgarian Yogurt   \n",
      "1              1       11109  Organic 4% Milk Fat Whole Milk Cottage Cheese   \n",
      "2              1       10246                          Organic Celery Hearts   \n",
      "3              1       49683                                 Cucumber Kirby   \n",
      "4              1       43633           Lightly Smoked Sardines in Olive Oil   \n",
      "...          ...         ...                                            ...   \n",
      "984965    100000       30169        Total 2% All Natural Plain Greek Yogurt   \n",
      "984966    100000       38734                           Wheat Sandwich Thins   \n",
      "984967    100000       36759         Unscented Long Lasting Stick Deodorant   \n",
      "984968    100000       37107                                   Ground Cumin   \n",
      "984969    100000       31506                         Extra Virgin Olive Oil   \n",
      "\n",
      "        aisle_id                 aisle  department_id     department  \n",
      "0            120                yogurt             16     dairy eggs  \n",
      "1            108  other creams cheeses             16     dairy eggs  \n",
      "2             83      fresh vegetables              4        produce  \n",
      "3             83      fresh vegetables              4        produce  \n",
      "4             95   canned meat seafood             15   canned goods  \n",
      "...          ...                   ...            ...            ...  \n",
      "984965       120                yogurt             16     dairy eggs  \n",
      "984966       128  tortillas flat bread              3         bakery  \n",
      "984967        80            deodorants             11  personal care  \n",
      "984968       104     spices seasonings             13         pantry  \n",
      "984969        19         oils vinegars             13         pantry  \n",
      "\n",
      "[916768 rows x 7 columns]\n"
     ]
    }
   ],
   "source": [
    "# Create a dataset excluding frozen products\n",
    "non_frozen_products = mma_mart[~mma_mart['department'].str.contains('frozen')]\n",
    "print(non_frozen_products)"
   ]
  },
  {
   "cell_type": "code",
   "execution_count": 69,
   "id": "5b6a6c06",
   "metadata": {},
   "outputs": [
    {
     "name": "stdout",
     "output_type": "stream",
     "text": [
      "        order_id  product_id  \\\n",
      "0              1       49302   \n",
      "1              1       11109   \n",
      "7              1       22035   \n",
      "8              2       33120   \n",
      "17             3       33754   \n",
      "...          ...         ...   \n",
      "984952     99999       10034   \n",
      "984953     99999       44085   \n",
      "984954     99999        9558   \n",
      "984964    100000       30489   \n",
      "984965    100000       30169   \n",
      "\n",
      "                                             product_name  aisle_id  \\\n",
      "0                                        Bulgarian Yogurt       120   \n",
      "1           Organic 4% Milk Fat Whole Milk Cottage Cheese       108   \n",
      "7                             Organic Whole String Cheese        21   \n",
      "8                                      Organic Egg Whites        86   \n",
      "17      Total 2% with Strawberry Lowfat Greek Strained...       120   \n",
      "...                                                   ...       ...   \n",
      "984952                Reduced Fat Mozarella String Cheese        21   \n",
      "984953                   Vanilla Light & Fit Greek Yogurt       120   \n",
      "984954               Non-Fat Vanilla Blended Greek Yogurt       120   \n",
      "984964                                    Original Hummus        67   \n",
      "984965            Total 2% All Natural Plain Greek Yogurt       120   \n",
      "\n",
      "                       aisle  department_id  department  \n",
      "0                     yogurt             16  dairy eggs  \n",
      "1       other creams cheeses             16  dairy eggs  \n",
      "7            packaged cheese             16  dairy eggs  \n",
      "8                       eggs             16  dairy eggs  \n",
      "17                    yogurt             16  dairy eggs  \n",
      "...                      ...            ...         ...  \n",
      "984952       packaged cheese             16  dairy eggs  \n",
      "984953                yogurt             16  dairy eggs  \n",
      "984954                yogurt             16  dairy eggs  \n",
      "984964  fresh dips tapenades             20        deli  \n",
      "984965                yogurt             16  dairy eggs  \n",
      "\n",
      "[218064 rows x 7 columns]\n"
     ]
    }
   ],
   "source": [
    "# Create a list of departments with refrigerated products\n",
    "list_refrigerated_dept = ['dairy eggs', 'meat seafood','deli']\n",
    "\n",
    "# Filter for refridgerated products \n",
    "refrigerated_products = mma_mart[mma_mart['department'].str.contains('|'.join(list_refrigerated_dept))]\n",
    "\n",
    "print(refrigerated_products)"
   ]
  },
  {
   "cell_type": "code",
   "execution_count": 70,
   "id": "b08eadd1",
   "metadata": {},
   "outputs": [
    {
     "name": "stdout",
     "output_type": "stream",
     "text": [
      "      product_id                                       product_name  count\n",
      "2606       27845                                 Organic Whole Milk   4089\n",
      "4604       49235                                Organic Half & Half   2401\n",
      "2847       30489                                    Original Hummus   2136\n",
      "2533       27086                                        Half & Half   2061\n",
      "2054       22035                        Organic Whole String Cheese   1783\n",
      "...          ...                                                ...    ...\n",
      "2917       31167                 Natural Casing Old Fashion Wieners      1\n",
      "3903       41904          Kefir, Organic, Mango, Orange & Pineapple      1\n",
      "3904       41907                                    Cured Salt Pork      1\n",
      "802         8905  Salumeria Salamini Series Columbus Peppered Sa...      1\n",
      "0              9                  Light Strawberry Blueberry Yogurt      1\n",
      "\n",
      "[4647 rows x 3 columns]\n"
     ]
    }
   ],
   "source": [
    "# Count the number of refrigerated products by product name \n",
    "refrigerated_product_counts = refrigerated_products.groupby(['product_id','product_name']).size().reset_index(name='count').sort_values(by='count', ascending=False)\n",
    "\n",
    "# Preview the results \n",
    "print(refrigerated_product_counts)"
   ]
  },
  {
   "cell_type": "code",
   "execution_count": 71,
   "id": "5705181b",
   "metadata": {},
   "outputs": [],
   "source": [
    "# Extract the top 100 refridgerated products sold \n",
    "top_refrigerated_products_sold = refrigerated_product_counts.head(100)\n",
    "\n",
    "# Create a csv \n",
    "top_refrigerated_products_sold.to_csv(\"top_refrigerated_products_sold.csv\", encoding='utf8', index=False)"
   ]
  }
 ],
 "metadata": {
  "kernelspec": {
   "display_name": "PythonData",
   "language": "python",
   "name": "pythondata"
  },
  "language_info": {
   "codemirror_mode": {
    "name": "ipython",
    "version": 3
   },
   "file_extension": ".py",
   "mimetype": "text/x-python",
   "name": "python",
   "nbconvert_exporter": "python",
   "pygments_lexer": "ipython3",
   "version": "3.9.13"
  }
 },
 "nbformat": 4,
 "nbformat_minor": 5
}
