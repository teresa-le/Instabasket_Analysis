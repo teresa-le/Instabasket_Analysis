{
 "cells": [
  {
   "cell_type": "code",
   "execution_count": 1,
   "id": "4b50c4a6",
   "metadata": {},
   "outputs": [],
   "source": [
    "# Import the packages\n",
    "import matplotlib.pyplot as plt\n",
    "import scipy.stats as stats\n",
    "import numpy as np\n",
    "import pandas as pd\n",
    "import numpy as np\n"
   ]
  },
  {
   "cell_type": "markdown",
   "id": "8a39f8ca",
   "metadata": {},
   "source": [
    "# Analyze the Summary Statistics"
   ]
  },
  {
   "cell_type": "code",
   "execution_count": 2,
   "id": "9151b714",
   "metadata": {},
   "outputs": [
    {
     "name": "stdout",
     "output_type": "stream",
     "text": [
      "        order_id  product_id                                   product_name  \\\n",
      "0              1       49302                               Bulgarian Yogurt   \n",
      "1              1       11109  Organic 4% Milk Fat Whole Milk Cottage Cheese   \n",
      "2              1       10246                          Organic Celery Hearts   \n",
      "3              1       49683                                 Cucumber Kirby   \n",
      "4              1       43633           Lightly Smoked Sardines in Olive Oil   \n",
      "...          ...         ...                                            ...   \n",
      "984965    100000       30169        Total 2% All Natural Plain Greek Yogurt   \n",
      "984966    100000       38734                           Wheat Sandwich Thins   \n",
      "984967    100000       36759         Unscented Long Lasting Stick Deodorant   \n",
      "984968    100000       37107                                   Ground Cumin   \n",
      "984969    100000       31506                         Extra Virgin Olive Oil   \n",
      "\n",
      "        aisle_id                 aisle  department_id     department  \n",
      "0            120                yogurt             16     dairy eggs  \n",
      "1            108  other creams cheeses             16     dairy eggs  \n",
      "2             83      fresh vegetables              4        produce  \n",
      "3             83      fresh vegetables              4        produce  \n",
      "4             95   canned meat seafood             15   canned goods  \n",
      "...          ...                   ...            ...            ...  \n",
      "984965       120                yogurt             16     dairy eggs  \n",
      "984966       128  tortillas flat bread              3         bakery  \n",
      "984967        80            deodorants             11  personal care  \n",
      "984968       104     spices seasonings             13         pantry  \n",
      "984969        19         oils vinegars             13         pantry  \n",
      "\n",
      "[984970 rows x 7 columns]\n"
     ]
    }
   ],
   "source": [
    "# load the data\n",
    "file_path = r'C:\\Users\\Teresa - School\\Documents\\Projects\\Rotman_Datathon_23\\clean_mma_mart.csv'\n",
    "\n",
    "mma_mart = pd.read_csv(file_path)\n",
    "\n",
    "# Preview the data\n",
    "print(mma_mart)"
   ]
  },
  {
   "cell_type": "code",
   "execution_count": 3,
   "id": "d490cae6",
   "metadata": {},
   "outputs": [
    {
     "name": "stdout",
     "output_type": "stream",
     "text": [
      "Count of distinct orders: 97828\n",
      "Count of distinct products: 34552\n",
      "Count of distinct aisles: 133\n",
      "Count of distinct departments: 20\n"
     ]
    }
   ],
   "source": [
    "# Count the number of orders \n",
    "distinct_orders = mma_mart['order_id'].nunique()\n",
    "print(\"Count of distinct orders:\", distinct_orders)\n",
    "\n",
    "# Count the number of products\n",
    "distinct_products = mma_mart['product_name'].nunique()\n",
    "print(\"Count of distinct products:\",distinct_products)\n",
    "\n",
    "# Count the number of aisles\n",
    "distinct_aisles = mma_mart['aisle_id'].nunique()\n",
    "print(\"Count of distinct aisles:\", distinct_aisles)\n",
    "\n",
    "# Count the number of departments\n",
    "distinct_dept = mma_mart['department_id'].nunique()\n",
    "print(\"Count of distinct departments:\", distinct_dept)"
   ]
  },
  {
   "cell_type": "code",
   "execution_count": 4,
   "id": "dcf7a36d",
   "metadata": {},
   "outputs": [
    {
     "name": "stdout",
     "output_type": "stream",
     "text": [
      "Average Number of Products by Order: 10.068385329353559\n",
      "Average Number of Aisles by Order: 7.239910863965327\n",
      "Average Number of Departments by Order: 4.718485505172343\n"
     ]
    }
   ],
   "source": [
    "# Calculate the average number of of products by order\n",
    "avg_products_by_order = mma_mart.groupby('order_id')['product_name'].nunique().mean()\n",
    "print(\"Average Number of Products by Order:\", avg_products_by_order)\n",
    "\n",
    "# Calculate the average number of aisles by order \n",
    "avg_aisles_by_order = mma_mart.groupby('order_id')['aisle_id'].nunique().mean()\n",
    "print(\"Average Number of Aisles by Order:\", avg_aisles_by_order)\n",
    "\n",
    "# Calculate the average number of departments by order\n",
    "avg_dept_by_order = mma_mart.groupby('order_id')['department_id'].nunique().mean()\n",
    "print(\"Average Number of Departments by Order:\", avg_dept_by_order)"
   ]
  },
  {
   "cell_type": "markdown",
   "id": "f73a7ced",
   "metadata": {},
   "source": [
    "# Find the Top Products"
   ]
  },
  {
   "cell_type": "code",
   "execution_count": 5,
   "id": "e7df7685",
   "metadata": {},
   "outputs": [
    {
     "name": "stdout",
     "output_type": "stream",
     "text": [
      "Banana                                         14494\n",
      "Bag of Organic Bananas                         11694\n",
      "Organic Strawberries                            8081\n",
      "Organic Baby Spinach                            7369\n",
      "Organic Hass Avocado                            6411\n",
      "                                               ...  \n",
      "Multigrain Pita Chips                            166\n",
      "Frosted Mini-Wheats Original Cereal              165\n",
      "Crushed Tomatoes With Basil                      165\n",
      "Naked Green Machine Boosted Juice Smoothie       165\n",
      "Cannellini White Kidney Beans No Salt Added      165\n",
      "Name: product_name, Length: 1000, dtype: int64\n"
     ]
    }
   ],
   "source": [
    "# Count the number of times a product was purchased\n",
    "product_counts = mma_mart['product_name'].value_counts()\n",
    "\n",
    "# Take the top 1000 products \n",
    "top_products_by_count = product_counts.head(1000)\n",
    "print(top_products_by_count)"
   ]
  },
  {
   "cell_type": "code",
   "execution_count": 6,
   "id": "be1d2523",
   "metadata": {},
   "outputs": [
    {
     "name": "stdout",
     "output_type": "stream",
     "text": [
      "       product_id                                    product_name  \\\n",
      "17302       24852                                          Banana   \n",
      "9083        13176                          Bag of Organic Bananas   \n",
      "14668       21137                            Organic Strawberries   \n",
      "15219       21903                            Organic Baby Spinach   \n",
      "32843       47209                            Organic Hass Avocado   \n",
      "...           ...                                             ...   \n",
      "15302       22013                                     Witch Hazel   \n",
      "15303       22014                           Udo's Oil 3-6-9 Blend   \n",
      "4218         6070                    Sesame Ginger Teriyaki Sauce   \n",
      "1239         1813                          Sodel Alm Mlk Wlnut 48   \n",
      "6169         8890  Light Parmesan Peppercorn Ranch Salad Dressing   \n",
      "\n",
      "       department_id     department  aisle_id                       aisle  \\\n",
      "17302              4        produce        24                fresh fruits   \n",
      "9083               4        produce        24                fresh fruits   \n",
      "14668              4        produce        24                fresh fruits   \n",
      "15219              4        produce       123  packaged vegetables fruits   \n",
      "32843              4        produce        24                fresh fruits   \n",
      "...              ...            ...       ...                         ...   \n",
      "15302             11  personal care       118                   first aid   \n",
      "15303             11  personal care        47        vitamins supplements   \n",
      "4218              13         pantry         5  marinades meat preparation   \n",
      "1239              16     dairy eggs        91             soy lactosefree   \n",
      "6169              13         pantry        89     salad dressing toppings   \n",
      "\n",
      "       count  \n",
      "17302  14494  \n",
      "9083   11694  \n",
      "14668   8081  \n",
      "15219   7369  \n",
      "32843   6411  \n",
      "...      ...  \n",
      "15302      1  \n",
      "15303      1  \n",
      "4218       1  \n",
      "1239       1  \n",
      "6169       1  \n",
      "\n",
      "[34552 rows x 7 columns]\n"
     ]
    }
   ],
   "source": [
    "top_product_counts = mma_mart.groupby(['product_id','product_name','department_id','department','aisle_id','aisle']).size().reset_index(name='count').sort_values(by='count', ascending=False)\n",
    "print(top_product_counts)"
   ]
  },
  {
   "cell_type": "code",
   "execution_count": 7,
   "id": "57407075",
   "metadata": {
    "scrolled": true
   },
   "outputs": [
    {
     "name": "stdout",
     "output_type": "stream",
     "text": [
      "        order_id  product_id                                   product_name  \\\n",
      "68             7       46802                               Pineapple Chunks   \n",
      "100           11       30162         Teriyaki & Pineapple Chicken Meatballs   \n",
      "114           12       38050  All Natural Boneless Skinless Chicken Breasts   \n",
      "118           12       29471                        Combination Pizza Rolls   \n",
      "135           14         162                 Organic Mini Homestyle Waffles   \n",
      "...          ...         ...                                            ...   \n",
      "984887     99993       43749                 Organic Ice Cream Vanilla Bean   \n",
      "984891     99993        5537   Dairy Free Coconut Milk Frozen Dessert Minis   \n",
      "984895     99993       26128                           Organic Mango Chunks   \n",
      "984921     99996        9434                            Bag of Large Lemons   \n",
      "984926     99996       32691                              Vanilla Ice Cream   \n",
      "\n",
      "        aisle_id                    aisle  department_id department  \n",
      "68           116           frozen produce              1     frozen  \n",
      "100           38             frozen meals              1     frozen  \n",
      "114           34      frozen meat seafood              1     frozen  \n",
      "118          129  frozen appetizers sides              1     frozen  \n",
      "135           52         frozen breakfast              1     frozen  \n",
      "...          ...                      ...            ...        ...  \n",
      "984887        37            ice cream ice              1     frozen  \n",
      "984891        37            ice cream ice              1     frozen  \n",
      "984895       116           frozen produce              1     frozen  \n",
      "984921        34      frozen meat seafood              1     frozen  \n",
      "984926        37            ice cream ice              1     frozen  \n",
      "\n",
      "[68202 rows x 7 columns]\n"
     ]
    }
   ],
   "source": [
    "# Extract the frozen foods  \n",
    "frozen_foods = mma_mart[mma_mart['department'].str.contains('frozen')]\n",
    "print(frozen_foods)"
   ]
  },
  {
   "cell_type": "code",
   "execution_count": 8,
   "id": "0c2fcf0f",
   "metadata": {},
   "outputs": [
    {
     "name": "stdout",
     "output_type": "stream",
     "text": [
      "      product_id                                       product_name  \\\n",
      "607         9076                                        Blueberries   \n",
      "1323       20995                           Organic Broccoli Florets   \n",
      "1542       24489                         Organic Whole Strawberries   \n",
      "1147       17948                    Frozen Organic Wild Blueberries   \n",
      "2945       46802                                   Pineapple Chunks   \n",
      "...          ...                                                ...   \n",
      "2303       36825                       Cookie Dough Grand Ice Cream   \n",
      "1547       24558       Strawberry Snickerdoole Ice Cream Sandwiches   \n",
      "484         7002      Chicken, Broccoli & Cheddar Frozen Sandwiches   \n",
      "2717       43493                Boneless Pork Rib Shaped Potty Meal   \n",
      "2606       41835  4 Pull-Apart Dipping Strips Four Cheese with M...   \n",
      "\n",
      "      department_id department  aisle_id           aisle  count  \n",
      "607               1     frozen       116  frozen produce   1759  \n",
      "1323              1     frozen       116  frozen produce   1040  \n",
      "1542              1     frozen       116  frozen produce    983  \n",
      "1147              1     frozen       116  frozen produce    921  \n",
      "2945              1     frozen       116  frozen produce    701  \n",
      "...             ...        ...       ...             ...    ...  \n",
      "2303              1     frozen        37   ice cream ice      1  \n",
      "1547              1     frozen        37   ice cream ice      1  \n",
      "484               1     frozen        38    frozen meals      1  \n",
      "2717              1     frozen        38    frozen meals      1  \n",
      "2606              1     frozen        79    frozen pizza      1  \n",
      "\n",
      "[3127 rows x 7 columns]\n"
     ]
    }
   ],
   "source": [
    "# Count the number of occurrences of each product in descending order and print the results \n",
    "frozen_product_counts = frozen_foods.groupby(['product_id','product_name','department_id','department','aisle_id','aisle']).size().reset_index(name='count').sort_values(by='count', ascending=False)\n",
    "\n",
    "print(frozen_product_counts)"
   ]
  },
  {
   "cell_type": "code",
   "execution_count": 9,
   "id": "7cac96fc",
   "metadata": {},
   "outputs": [],
   "source": [
    "# Extract the top 100 frozen products sold \n",
    "top_frozen_products_sold = frozen_product_counts.head(100)\n",
    "\n",
    "# Create a csv \n",
    "top_frozen_products_sold.to_csv(\"top_frozen_products.csv\", encoding='utf8', index=False)"
   ]
  },
  {
   "cell_type": "code",
   "execution_count": 10,
   "id": "c9c0fc59",
   "metadata": {},
   "outputs": [
    {
     "name": "stdout",
     "output_type": "stream",
     "text": [
      "        order_id  product_id                                   product_name  \\\n",
      "0              1       49302                               Bulgarian Yogurt   \n",
      "1              1       11109  Organic 4% Milk Fat Whole Milk Cottage Cheese   \n",
      "2              1       10246                          Organic Celery Hearts   \n",
      "3              1       49683                                 Cucumber Kirby   \n",
      "4              1       43633           Lightly Smoked Sardines in Olive Oil   \n",
      "...          ...         ...                                            ...   \n",
      "984965    100000       30169        Total 2% All Natural Plain Greek Yogurt   \n",
      "984966    100000       38734                           Wheat Sandwich Thins   \n",
      "984967    100000       36759         Unscented Long Lasting Stick Deodorant   \n",
      "984968    100000       37107                                   Ground Cumin   \n",
      "984969    100000       31506                         Extra Virgin Olive Oil   \n",
      "\n",
      "        aisle_id                 aisle  department_id     department  \n",
      "0            120                yogurt             16     dairy eggs  \n",
      "1            108  other creams cheeses             16     dairy eggs  \n",
      "2             83      fresh vegetables              4        produce  \n",
      "3             83      fresh vegetables              4        produce  \n",
      "4             95   canned meat seafood             15   canned goods  \n",
      "...          ...                   ...            ...            ...  \n",
      "984965       120                yogurt             16     dairy eggs  \n",
      "984966       128  tortillas flat bread              3         bakery  \n",
      "984967        80            deodorants             11  personal care  \n",
      "984968       104     spices seasonings             13         pantry  \n",
      "984969        19         oils vinegars             13         pantry  \n",
      "\n",
      "[916768 rows x 7 columns]\n"
     ]
    }
   ],
   "source": [
    "# Create a dataset excluding frozen products\n",
    "non_frozen_products = mma_mart[~mma_mart['department'].str.contains('frozen')]\n",
    "print(non_frozen_products)"
   ]
  },
  {
   "cell_type": "code",
   "execution_count": 11,
   "id": "c0b1eeb4",
   "metadata": {},
   "outputs": [
    {
     "name": "stdout",
     "output_type": "stream",
     "text": [
      "        order_id  product_id  \\\n",
      "0              1       49302   \n",
      "1              1       11109   \n",
      "7              1       22035   \n",
      "8              2       33120   \n",
      "17             3       33754   \n",
      "...          ...         ...   \n",
      "984951     99999       36186   \n",
      "984952     99999       10034   \n",
      "984953     99999       44085   \n",
      "984954     99999        9558   \n",
      "984965    100000       30169   \n",
      "\n",
      "                                             product_name  aisle_id  \\\n",
      "0                                        Bulgarian Yogurt       120   \n",
      "1           Organic 4% Milk Fat Whole Milk Cottage Cheese       108   \n",
      "7                             Organic Whole String Cheese        21   \n",
      "8                                      Organic Egg Whites        86   \n",
      "17      Total 2% with Strawberry Lowfat Greek Strained...       120   \n",
      "...                                                   ...       ...   \n",
      "984951                        Large Grade AA Organic Eggs        86   \n",
      "984952                Reduced Fat Mozarella String Cheese        21   \n",
      "984953                   Vanilla Light & Fit Greek Yogurt       120   \n",
      "984954               Non-Fat Vanilla Blended Greek Yogurt       120   \n",
      "984965            Total 2% All Natural Plain Greek Yogurt       120   \n",
      "\n",
      "                       aisle  department_id  department  \n",
      "0                     yogurt             16  dairy eggs  \n",
      "1       other creams cheeses             16  dairy eggs  \n",
      "7            packaged cheese             16  dairy eggs  \n",
      "8                       eggs             16  dairy eggs  \n",
      "17                    yogurt             16  dairy eggs  \n",
      "...                      ...            ...         ...  \n",
      "984951                  eggs             16  dairy eggs  \n",
      "984952       packaged cheese             16  dairy eggs  \n",
      "984953                yogurt             16  dairy eggs  \n",
      "984954                yogurt             16  dairy eggs  \n",
      "984965                yogurt             16  dairy eggs  \n",
      "\n",
      "[186056 rows x 7 columns]\n"
     ]
    }
   ],
   "source": [
    "# Create a list of departments with refrigerated products\n",
    "list_refrigerated_depts = ['dairy eggs', 'meat seafood']\n",
    "                           \n",
    "# Filter for refridgerated products \n",
    "refrigerated_products_depts = mma_mart[mma_mart['department'].str.contains('|'.join(list_refrigerated_depts))]\n",
    "\n",
    "print(refrigerated_products_depts)"
   ]
  },
  {
   "cell_type": "code",
   "execution_count": 12,
   "id": "8656cc19",
   "metadata": {},
   "outputs": [
    {
     "name": "stdout",
     "output_type": "stream",
     "text": [
      "        order_id  product_id  \\\n",
      "35             4       25146   \n",
      "64             6       40462   \n",
      "67             7       34050   \n",
      "127           13       41290   \n",
      "297           30       48559   \n",
      "...          ...         ...   \n",
      "984687     99970       34050   \n",
      "984805     99983       41290   \n",
      "984809     99984       30776   \n",
      "984820     99985       20339   \n",
      "984935     99997       29270   \n",
      "\n",
      "                                             product_name  aisle_id  \\\n",
      "35                                  Original Orange Juice        31   \n",
      "64                                                Cleanse        31   \n",
      "67                                           Orange Juice        31   \n",
      "127                                              Lemonade        31   \n",
      "297                  Synergy Organic Kombucha Gingerberry        31   \n",
      "...                                                   ...       ...   \n",
      "984687                                       Orange Juice        31   \n",
      "984805                                           Lemonade        31   \n",
      "984809                     Organic Raw Kombucha Gingerade        31   \n",
      "984820        Chocolate Protein Soy & Dairy Protein Shake        31   \n",
      "984935  Beet Apple Carrot Lemon Ginger Organic Cold Pr...        31   \n",
      "\n",
      "               aisle  department_id department  \n",
      "35      refrigerated              7  beverages  \n",
      "64      refrigerated              7  beverages  \n",
      "67      refrigerated              7  beverages  \n",
      "127     refrigerated              7  beverages  \n",
      "297     refrigerated              7  beverages  \n",
      "...              ...            ...        ...  \n",
      "984687  refrigerated              7  beverages  \n",
      "984805  refrigerated              7  beverages  \n",
      "984809  refrigerated              7  beverages  \n",
      "984820  refrigerated              7  beverages  \n",
      "984935  refrigerated              7  beverages  \n",
      "\n",
      "[18837 rows x 7 columns]\n"
     ]
    }
   ],
   "source": [
    "# Find other refrigerated products \n",
    "refrigerated_aisles_not_in_depts_list = ['refrigerated'] \n",
    "\n",
    "refridgerated_products_aisles = mma_mart[mma_mart['aisle'].str.contains('refrigerated')]\n",
    "\n",
    "print(refridgerated_products_aisles)"
   ]
  },
  {
   "cell_type": "code",
   "execution_count": 13,
   "id": "0a2a12f0",
   "metadata": {},
   "outputs": [
    {
     "name": "stdout",
     "output_type": "stream",
     "text": [
      "        order_id  product_id  \\\n",
      "0              1       49302   \n",
      "1              1       11109   \n",
      "7              1       22035   \n",
      "8              2       33120   \n",
      "17             3       33754   \n",
      "...          ...         ...   \n",
      "984687     99970       34050   \n",
      "984805     99983       41290   \n",
      "984809     99984       30776   \n",
      "984820     99985       20339   \n",
      "984935     99997       29270   \n",
      "\n",
      "                                             product_name  aisle_id  \\\n",
      "0                                        Bulgarian Yogurt       120   \n",
      "1           Organic 4% Milk Fat Whole Milk Cottage Cheese       108   \n",
      "7                             Organic Whole String Cheese        21   \n",
      "8                                      Organic Egg Whites        86   \n",
      "17      Total 2% with Strawberry Lowfat Greek Strained...       120   \n",
      "...                                                   ...       ...   \n",
      "984687                                       Orange Juice        31   \n",
      "984805                                           Lemonade        31   \n",
      "984809                     Organic Raw Kombucha Gingerade        31   \n",
      "984820        Chocolate Protein Soy & Dairy Protein Shake        31   \n",
      "984935  Beet Apple Carrot Lemon Ginger Organic Cold Pr...        31   \n",
      "\n",
      "                       aisle  department_id  department  \n",
      "0                     yogurt             16  dairy eggs  \n",
      "1       other creams cheeses             16  dairy eggs  \n",
      "7            packaged cheese             16  dairy eggs  \n",
      "8                       eggs             16  dairy eggs  \n",
      "17                    yogurt             16  dairy eggs  \n",
      "...                      ...            ...         ...  \n",
      "984687          refrigerated              7   beverages  \n",
      "984805          refrigerated              7   beverages  \n",
      "984809          refrigerated              7   beverages  \n",
      "984820          refrigerated              7   beverages  \n",
      "984935          refrigerated              7   beverages  \n",
      "\n",
      "[204893 rows x 7 columns]\n"
     ]
    }
   ],
   "source": [
    "# Join the two refrigerated products datasets \n",
    "\n",
    "refrigerated_products = pd.concat([refrigerated_products_depts, refridgerated_products_aisles], axis=0)\n",
    "\n",
    "print(refrigerated_products)"
   ]
  },
  {
   "cell_type": "code",
   "execution_count": 14,
   "id": "7414b8de",
   "metadata": {},
   "outputs": [
    {
     "name": "stdout",
     "output_type": "stream",
     "text": [
      "      product_id                        product_name  department_id  \\\n",
      "2320       27845                  Organic Whole Milk             16   \n",
      "4086       49235                 Organic Half & Half             16   \n",
      "2259       27086                         Half & Half             16   \n",
      "1822       22035         Organic Whole String Cheese             16   \n",
      "3015       35951     Organic Unsweetened Almond Milk             16   \n",
      "...          ...                                 ...            ...   \n",
      "2527       30402  Quencher Pomegranate Limeade Drink              7   \n",
      "2534       30528       Naturally Smoked Gouda Cheese             16   \n",
      "2536       30543               Herring In Wine Sauce             12   \n",
      "2541       30587             Chipotle Cheddar Cheese             16   \n",
      "2061       24883              Bone In Chicken Thighs             12   \n",
      "\n",
      "        department  aisle_id             aisle  count  \n",
      "2320    dairy eggs        84              milk   4089  \n",
      "4086    dairy eggs        53             cream   2401  \n",
      "2259    dairy eggs        53             cream   2061  \n",
      "1822    dairy eggs        21   packaged cheese   1783  \n",
      "3015    dairy eggs        91   soy lactosefree   1671  \n",
      "...            ...       ...               ...    ...  \n",
      "2527     beverages        31      refrigerated      1  \n",
      "2534    dairy eggs        21   packaged cheese      1  \n",
      "2536  meat seafood        15  packaged seafood      1  \n",
      "2541    dairy eggs        21   packaged cheese      1  \n",
      "2061  meat seafood        35   poultry counter      1  \n",
      "\n",
      "[4122 rows x 7 columns]\n"
     ]
    }
   ],
   "source": [
    "# Count the number of refrigerated products by product name \n",
    "refrigerated_product_counts = refrigerated_products.groupby(['product_id','product_name','department_id','department','aisle_id','aisle']).size().reset_index(name='count').sort_values(by='count', ascending=False)\n",
    "\n",
    "# Preview the results \n",
    "print(refrigerated_product_counts)"
   ]
  },
  {
   "cell_type": "code",
   "execution_count": 15,
   "id": "9b4cf8b2",
   "metadata": {},
   "outputs": [],
   "source": [
    "# Extract the top 100 refridgerated products sold \n",
    "top_refrigerated_products_sold = refrigerated_product_counts.head(100)\n",
    "\n",
    "# Create a csv \n",
    "top_refrigerated_products_sold.to_csv(\"top_refrigerated_products_sold.csv\", encoding='utf8', index=False)"
   ]
  },
  {
   "cell_type": "code",
   "execution_count": 16,
   "id": "99d676cf",
   "metadata": {},
   "outputs": [
    {
     "name": "stdout",
     "output_type": "stream",
     "text": [
      "        order_id  product_id                            product_name  \\\n",
      "2              1       10246                   Organic Celery Hearts   \n",
      "3              1       49683                          Cucumber Kirby   \n",
      "4              1       43633    Lightly Smoked Sardines in Olive Oil   \n",
      "5              1       13176                  Bag of Organic Bananas   \n",
      "6              1       47209                    Organic Hass Avocado   \n",
      "...          ...         ...                                     ...   \n",
      "984964    100000       30489                         Original Hummus   \n",
      "984966    100000       38734                    Wheat Sandwich Thins   \n",
      "984967    100000       36759  Unscented Long Lasting Stick Deodorant   \n",
      "984968    100000       37107                            Ground Cumin   \n",
      "984969    100000       31506                  Extra Virgin Olive Oil   \n",
      "\n",
      "        aisle_id                 aisle  department_id     department  \n",
      "2             83      fresh vegetables              4        produce  \n",
      "3             83      fresh vegetables              4        produce  \n",
      "4             95   canned meat seafood             15   canned goods  \n",
      "5             24          fresh fruits              4        produce  \n",
      "6             24          fresh fruits              4        produce  \n",
      "...          ...                   ...            ...            ...  \n",
      "984964        67  fresh dips tapenades             20           deli  \n",
      "984966       128  tortillas flat bread              3         bakery  \n",
      "984967        80            deodorants             11  personal care  \n",
      "984968       104     spices seasonings             13         pantry  \n",
      "984969        19         oils vinegars             13         pantry  \n",
      "\n",
      "[648789 rows x 7 columns]\n"
     ]
    }
   ],
   "source": [
    "# Subset data for non-frozen and non-refridgerated products\n",
    "non_frozen_refrigerated_products = non_frozen_products[~non_frozen_products['department'].isin(refrigerated_products['department'])]\n",
    "\n",
    "# Preview the results \n",
    "print(non_frozen_refrigerated_products)"
   ]
  },
  {
   "cell_type": "code",
   "execution_count": 17,
   "id": "49c08d7d",
   "metadata": {},
   "outputs": [
    {
     "name": "stdout",
     "output_type": "stream",
     "text": [
      "        order_id  product_id                            product_name  \\\n",
      "40             5       47329                       Fresh Fruit Salad   \n",
      "101           11       27085                   Mango Pineapple Salsa   \n",
      "179           18        1057  Basil, Asiago & Pine Nut Pesto Ravioli   \n",
      "191           21        5009                          Yuba Tofu Skin   \n",
      "192           21       33106                       Organic Firm Tofu   \n",
      "...          ...         ...                                     ...   \n",
      "984864     99991        5973                    Spicy Avocado Hummus   \n",
      "984869     99991       40396                               Guacamole   \n",
      "984910     99995       13548                           Guacamole Dip   \n",
      "984915     99995       30489                         Original Hummus   \n",
      "984964    100000       30489                         Original Hummus   \n",
      "\n",
      "        aisle_id                   aisle  department_id department  \n",
      "40             1   prepared soups salads             20       deli  \n",
      "101           67    fresh dips tapenades             20       deli  \n",
      "179           13          prepared meals             20       deli  \n",
      "191           14  tofu meat alternatives             20       deli  \n",
      "192           14  tofu meat alternatives             20       deli  \n",
      "...          ...                     ...            ...        ...  \n",
      "984864        67    fresh dips tapenades             20       deli  \n",
      "984869        67    fresh dips tapenades             20       deli  \n",
      "984910        67    fresh dips tapenades             20       deli  \n",
      "984915        67    fresh dips tapenades             20       deli  \n",
      "984964        67    fresh dips tapenades             20       deli  \n",
      "\n",
      "[32008 rows x 7 columns]\n"
     ]
    }
   ],
   "source": [
    "# Check the results \n",
    "print(non_frozen_refrigerated_products[non_frozen_refrigerated_products['department'].str.contains('deli')])"
   ]
  },
  {
   "cell_type": "code",
   "execution_count": 18,
   "id": "3a472a4d",
   "metadata": {},
   "outputs": [
    {
     "data": {
      "text/html": [
       "<div>\n",
       "<style scoped>\n",
       "    .dataframe tbody tr th:only-of-type {\n",
       "        vertical-align: middle;\n",
       "    }\n",
       "\n",
       "    .dataframe tbody tr th {\n",
       "        vertical-align: top;\n",
       "    }\n",
       "\n",
       "    .dataframe thead th {\n",
       "        text-align: right;\n",
       "    }\n",
       "</style>\n",
       "<table border=\"1\" class=\"dataframe\">\n",
       "  <thead>\n",
       "    <tr style=\"text-align: right;\">\n",
       "      <th></th>\n",
       "      <th>order_id</th>\n",
       "      <th>product_id</th>\n",
       "      <th>product_name</th>\n",
       "      <th>aisle_id</th>\n",
       "      <th>aisle</th>\n",
       "      <th>department_id</th>\n",
       "      <th>department</th>\n",
       "    </tr>\n",
       "  </thead>\n",
       "  <tbody>\n",
       "    <tr>\n",
       "      <th>2</th>\n",
       "      <td>1</td>\n",
       "      <td>10246</td>\n",
       "      <td>Organic Celery Hearts</td>\n",
       "      <td>83</td>\n",
       "      <td>fresh vegetables</td>\n",
       "      <td>4</td>\n",
       "      <td>produce</td>\n",
       "    </tr>\n",
       "    <tr>\n",
       "      <th>3</th>\n",
       "      <td>1</td>\n",
       "      <td>49683</td>\n",
       "      <td>Cucumber Kirby</td>\n",
       "      <td>83</td>\n",
       "      <td>fresh vegetables</td>\n",
       "      <td>4</td>\n",
       "      <td>produce</td>\n",
       "    </tr>\n",
       "    <tr>\n",
       "      <th>4</th>\n",
       "      <td>1</td>\n",
       "      <td>43633</td>\n",
       "      <td>Lightly Smoked Sardines in Olive Oil</td>\n",
       "      <td>95</td>\n",
       "      <td>canned meat seafood</td>\n",
       "      <td>15</td>\n",
       "      <td>canned goods</td>\n",
       "    </tr>\n",
       "    <tr>\n",
       "      <th>5</th>\n",
       "      <td>1</td>\n",
       "      <td>13176</td>\n",
       "      <td>Bag of Organic Bananas</td>\n",
       "      <td>24</td>\n",
       "      <td>fresh fruits</td>\n",
       "      <td>4</td>\n",
       "      <td>produce</td>\n",
       "    </tr>\n",
       "    <tr>\n",
       "      <th>6</th>\n",
       "      <td>1</td>\n",
       "      <td>47209</td>\n",
       "      <td>Organic Hass Avocado</td>\n",
       "      <td>24</td>\n",
       "      <td>fresh fruits</td>\n",
       "      <td>4</td>\n",
       "      <td>produce</td>\n",
       "    </tr>\n",
       "    <tr>\n",
       "      <th>...</th>\n",
       "      <td>...</td>\n",
       "      <td>...</td>\n",
       "      <td>...</td>\n",
       "      <td>...</td>\n",
       "      <td>...</td>\n",
       "      <td>...</td>\n",
       "      <td>...</td>\n",
       "    </tr>\n",
       "    <tr>\n",
       "      <th>984964</th>\n",
       "      <td>100000</td>\n",
       "      <td>30489</td>\n",
       "      <td>Original Hummus</td>\n",
       "      <td>67</td>\n",
       "      <td>fresh dips tapenades</td>\n",
       "      <td>20</td>\n",
       "      <td>deli</td>\n",
       "    </tr>\n",
       "    <tr>\n",
       "      <th>984966</th>\n",
       "      <td>100000</td>\n",
       "      <td>38734</td>\n",
       "      <td>Wheat Sandwich Thins</td>\n",
       "      <td>128</td>\n",
       "      <td>tortillas flat bread</td>\n",
       "      <td>3</td>\n",
       "      <td>bakery</td>\n",
       "    </tr>\n",
       "    <tr>\n",
       "      <th>984967</th>\n",
       "      <td>100000</td>\n",
       "      <td>36759</td>\n",
       "      <td>Unscented Long Lasting Stick Deodorant</td>\n",
       "      <td>80</td>\n",
       "      <td>deodorants</td>\n",
       "      <td>11</td>\n",
       "      <td>personal care</td>\n",
       "    </tr>\n",
       "    <tr>\n",
       "      <th>984968</th>\n",
       "      <td>100000</td>\n",
       "      <td>37107</td>\n",
       "      <td>Ground Cumin</td>\n",
       "      <td>104</td>\n",
       "      <td>spices seasonings</td>\n",
       "      <td>13</td>\n",
       "      <td>pantry</td>\n",
       "    </tr>\n",
       "    <tr>\n",
       "      <th>984969</th>\n",
       "      <td>100000</td>\n",
       "      <td>31506</td>\n",
       "      <td>Extra Virgin Olive Oil</td>\n",
       "      <td>19</td>\n",
       "      <td>oils vinegars</td>\n",
       "      <td>13</td>\n",
       "      <td>pantry</td>\n",
       "    </tr>\n",
       "  </tbody>\n",
       "</table>\n",
       "<p>648789 rows × 7 columns</p>\n",
       "</div>"
      ],
      "text/plain": [
       "        order_id  product_id                            product_name  \\\n",
       "2              1       10246                   Organic Celery Hearts   \n",
       "3              1       49683                          Cucumber Kirby   \n",
       "4              1       43633    Lightly Smoked Sardines in Olive Oil   \n",
       "5              1       13176                  Bag of Organic Bananas   \n",
       "6              1       47209                    Organic Hass Avocado   \n",
       "...          ...         ...                                     ...   \n",
       "984964    100000       30489                         Original Hummus   \n",
       "984966    100000       38734                    Wheat Sandwich Thins   \n",
       "984967    100000       36759  Unscented Long Lasting Stick Deodorant   \n",
       "984968    100000       37107                            Ground Cumin   \n",
       "984969    100000       31506                  Extra Virgin Olive Oil   \n",
       "\n",
       "        aisle_id                 aisle  department_id     department  \n",
       "2             83      fresh vegetables              4        produce  \n",
       "3             83      fresh vegetables              4        produce  \n",
       "4             95   canned meat seafood             15   canned goods  \n",
       "5             24          fresh fruits              4        produce  \n",
       "6             24          fresh fruits              4        produce  \n",
       "...          ...                   ...            ...            ...  \n",
       "984964        67  fresh dips tapenades             20           deli  \n",
       "984966       128  tortillas flat bread              3         bakery  \n",
       "984967        80            deodorants             11  personal care  \n",
       "984968       104     spices seasonings             13         pantry  \n",
       "984969        19         oils vinegars             13         pantry  \n",
       "\n",
       "[648789 rows x 7 columns]"
      ]
     },
     "execution_count": 18,
     "metadata": {},
     "output_type": "execute_result"
    }
   ],
   "source": [
    "# Create a csv file \n",
    "non_frozen_refrigerated_products.to_csv(\"non_frozen_refrigerated_products_dataset.csv\", encoding='utf8', index=False)\n",
    "\n",
    "non_frozen_refrigerated_products "
   ]
  },
  {
   "cell_type": "markdown",
   "id": "c872ce90",
   "metadata": {},
   "source": [
    "# Finding the Top Products to Include in Instacart Section "
   ]
  },
  {
   "cell_type": "code",
   "execution_count": 19,
   "id": "c7e785af",
   "metadata": {},
   "outputs": [
    {
     "name": "stdout",
     "output_type": "stream",
     "text": [
      "       product_id                                    product_name  \\\n",
      "12315       24852                                          Banana   \n",
      "6422        13176                          Bag of Organic Bananas   \n",
      "10421       21137                            Organic Strawberries   \n",
      "10818       21903                            Organic Baby Spinach   \n",
      "23392       47209                            Organic Hass Avocado   \n",
      "...           ...                                             ...   \n",
      "17429       35217                         Toasted Sesame Seed Oil   \n",
      "8095        16525                          Organic Chopped Garlic   \n",
      "1910         3919  Hearty Grains 100% Whole Wheat English Muffins   \n",
      "20053       40469        Strawberry Flavored Organic Z Fruit Rope   \n",
      "4422         9047                              Premium Epsom Salt   \n",
      "\n",
      "       department_id     department  aisle_id                       aisle  \\\n",
      "12315              4        produce        24                fresh fruits   \n",
      "6422               4        produce        24                fresh fruits   \n",
      "10421              4        produce        24                fresh fruits   \n",
      "10818              4        produce       123  packaged vegetables fruits   \n",
      "23392              4        produce        24                fresh fruits   \n",
      "...              ...            ...       ...                         ...   \n",
      "17429             13         pantry        19               oils vinegars   \n",
      "8095              15   canned goods        81    canned jarred vegetables   \n",
      "1910               3         bakery        93            breakfast bakery   \n",
      "20053             19         snacks        50      fruit vegetable snacks   \n",
      "4422              11  personal care       133  muscles joints pain relief   \n",
      "\n",
      "       count  \n",
      "12315  14494  \n",
      "6422   11694  \n",
      "10421   8081  \n",
      "10818   7369  \n",
      "23392   6411  \n",
      "...      ...  \n",
      "17429    126  \n",
      "8095     126  \n",
      "1910     126  \n",
      "20053    126  \n",
      "4422     126  \n",
      "\n",
      "[800 rows x 7 columns]\n"
     ]
    }
   ],
   "source": [
    "# By Product Frequency \n",
    "top_products_excluding_frozen_refrigerated = non_frozen_refrigerated_products.groupby(['product_id','product_name','department_id','department','aisle_id','aisle']).size().reset_index(name='count').sort_values(by='count', ascending=False)\n",
    "\n",
    "top_800_products_excluding_frozen_refridgerated = top_products_excluding_frozen_refrigerated.head(800)\n",
    "print(top_800_products_excluding_frozen_refridgerated)"
   ]
  },
  {
   "cell_type": "code",
   "execution_count": 20,
   "id": "8d70c299",
   "metadata": {},
   "outputs": [],
   "source": [
    "# Create a csv file of the top non-frozen & non-refridgerated products \n",
    "top_800_products_excluding_frozen_refridgerated.to_csv(\"top_800_products_excluding_frozen_refrigerated.csv\", encoding='utf8', index=False)"
   ]
  },
  {
   "cell_type": "code",
   "execution_count": 21,
   "id": "859cd0e4",
   "metadata": {},
   "outputs": [
    {
     "name": "stdout",
     "output_type": "stream",
     "text": [
      "       product_id                                  product_name  \\\n",
      "12315       24852                                        Banana   \n",
      "6422        13176                        Bag of Organic Bananas   \n",
      "10421       21137                          Organic Strawberries   \n",
      "10818       21903                          Organic Baby Spinach   \n",
      "23392       47209                          Organic Hass Avocado   \n",
      "...           ...                                           ...   \n",
      "580          8638  Vanilla Milk Chocolate Almond Ice Cream Bars   \n",
      "326          4932                        Vanilla Bean Ice Cream   \n",
      "2826        45061                     Natural Vanilla Ice Cream   \n",
      "2426        39024                                Edamame In Pod   \n",
      "3018        47993                       Cherry Garcia Ice Cream   \n",
      "\n",
      "       department_id department  aisle_id                       aisle  count  \n",
      "12315              4    produce        24                fresh fruits  14494  \n",
      "6422               4    produce        24                fresh fruits  11694  \n",
      "10421              4    produce        24                fresh fruits   8081  \n",
      "10818              4    produce       123  packaged vegetables fruits   7369  \n",
      "23392              4    produce        24                fresh fruits   6411  \n",
      "...              ...        ...       ...                         ...    ...  \n",
      "580                1     frozen        37               ice cream ice    127  \n",
      "326                1     frozen        37               ice cream ice    127  \n",
      "2826               1     frozen        37               ice cream ice    127  \n",
      "2426               1     frozen       116              frozen produce    127  \n",
      "3018               1     frozen        37               ice cream ice    127  \n",
      "\n",
      "[1000 rows x 7 columns]\n"
     ]
    }
   ],
   "source": [
    "# Create a dataframe that includes the top 1000 items \n",
    "top_1000_products = pd.concat([top_800_products_excluding_frozen_refridgerated, top_refrigerated_products_sold, top_frozen_products_sold], axis=0)\n",
    "\n",
    "# Preview the results\n",
    "print(top_1000_products)"
   ]
  },
  {
   "cell_type": "code",
   "execution_count": 22,
   "id": "c5bb8cdc",
   "metadata": {},
   "outputs": [],
   "source": [
    "# Add a column to indicate whether an item is a part of the top 1000 products (no substitutions determined yet)\n",
    "\n",
    "# Create an empty list to store a binary output indicating whether an item is part of the top 1000 products or not \n",
    "available_in_instacart_aisle = []\n",
    "\n",
    "# Looping through the index of each row in the product name column in the mma_mart dataset with all the products purchased\n",
    "for i in range(mma_mart.shape[0]):\n",
    "    # Compare the name of the product in the order list to the top items selected to be in the instacart aisle \n",
    "    if mma_mart['product_name'].iloc[i] in top_1000_products['product_name'].values:\n",
    "        # Append the empty list with 1 \n",
    "        available_in_instacart_aisle.append(1)\n",
    "    else:\n",
    "        # Append the empty list with 0 when a match is not found\n",
    "        available_in_instacart_aisle.append(0)"
   ]
  },
  {
   "cell_type": "code",
   "execution_count": 23,
   "id": "28dfdc7b",
   "metadata": {},
   "outputs": [
    {
     "name": "stdout",
     "output_type": "stream",
     "text": [
      "        order_id  product_id                                   product_name  \\\n",
      "0              1       49302                               Bulgarian Yogurt   \n",
      "1              1       11109  Organic 4% Milk Fat Whole Milk Cottage Cheese   \n",
      "2              1       10246                          Organic Celery Hearts   \n",
      "3              1       49683                                 Cucumber Kirby   \n",
      "4              1       43633           Lightly Smoked Sardines in Olive Oil   \n",
      "...          ...         ...                                            ...   \n",
      "984965    100000       30169        Total 2% All Natural Plain Greek Yogurt   \n",
      "984966    100000       38734                           Wheat Sandwich Thins   \n",
      "984967    100000       36759         Unscented Long Lasting Stick Deodorant   \n",
      "984968    100000       37107                                   Ground Cumin   \n",
      "984969    100000       31506                         Extra Virgin Olive Oil   \n",
      "\n",
      "        aisle_id                 aisle  department_id     department  \\\n",
      "0            120                yogurt             16     dairy eggs   \n",
      "1            108  other creams cheeses             16     dairy eggs   \n",
      "2             83      fresh vegetables              4        produce   \n",
      "3             83      fresh vegetables              4        produce   \n",
      "4             95   canned meat seafood             15   canned goods   \n",
      "...          ...                   ...            ...            ...   \n",
      "984965       120                yogurt             16     dairy eggs   \n",
      "984966       128  tortillas flat bread              3         bakery   \n",
      "984967        80            deodorants             11  personal care   \n",
      "984968       104     spices seasonings             13         pantry   \n",
      "984969        19         oils vinegars             13         pantry   \n",
      "\n",
      "        available_in_instacart_aisle  \n",
      "0                                  0  \n",
      "1                                  0  \n",
      "2                                  1  \n",
      "3                                  1  \n",
      "4                                  0  \n",
      "...                              ...  \n",
      "984965                             1  \n",
      "984966                             0  \n",
      "984967                             0  \n",
      "984968                             1  \n",
      "984969                             1  \n",
      "\n",
      "[984970 rows x 8 columns]\n"
     ]
    }
   ],
   "source": [
    "# Use the list created via the loop and add a column to the original dataset that indicates whether an item is \n",
    "# part of the instacart aisle \n",
    "\n",
    "mma_mart['available_in_instacart_aisle'] = available_in_instacart_aisle\n",
    "\n",
    "# Preview the results\n",
    "print(mma_mart)"
   ]
  },
  {
   "cell_type": "code",
   "execution_count": 24,
   "id": "b7f32679",
   "metadata": {},
   "outputs": [
    {
     "name": "stdout",
     "output_type": "stream",
     "text": [
      "order_id\n",
      "1          5\n",
      "2          4\n",
      "3          6\n",
      "4          4\n",
      "5         10\n",
      "          ..\n",
      "99996      6\n",
      "99997     12\n",
      "99998      0\n",
      "99999      2\n",
      "100000    12\n",
      "Name: available_in_instacart_aisle, Length: 97828, dtype: int64\n"
     ]
    }
   ],
   "source": [
    "# Determine the number of products available in the instacart aisle by order \n",
    "num_products_in_instacart_aisle_by_order = mma_mart.groupby('order_id')['available_in_instacart_aisle'].sum()\n",
    "\n",
    "print(num_products_in_instacart_aisle_by_order)"
   ]
  },
  {
   "cell_type": "code",
   "execution_count": 25,
   "id": "d70024f0",
   "metadata": {},
   "outputs": [
    {
     "name": "stdout",
     "output_type": "stream",
     "text": [
      "order_id\n",
      "1          8\n",
      "2          9\n",
      "3          8\n",
      "4         13\n",
      "5         26\n",
      "          ..\n",
      "99996      8\n",
      "99997     19\n",
      "99998      1\n",
      "99999      8\n",
      "100000    15\n",
      "Name: product_id, Length: 97828, dtype: int64\n"
     ]
    }
   ],
   "source": [
    "# Find the number of products purchased by order \n",
    "total_products_by_order = mma_mart.groupby('order_id')['product_id'].count()\n",
    "\n",
    "print(total_products_by_order)"
   ]
  },
  {
   "cell_type": "code",
   "execution_count": 26,
   "id": "5e08e382",
   "metadata": {},
   "outputs": [
    {
     "name": "stdout",
     "output_type": "stream",
     "text": [
      "order_id\n",
      "1         0.625000\n",
      "2         0.444444\n",
      "3         0.750000\n",
      "4         0.307692\n",
      "5         0.384615\n",
      "            ...   \n",
      "99996     0.750000\n",
      "99997     0.631579\n",
      "99998     0.000000\n",
      "99999     0.250000\n",
      "100000    0.800000\n",
      "Length: 97828, dtype: float64\n"
     ]
    }
   ],
   "source": [
    "# Determine what percentage of the order can be fulfilled via picking items from the instacart aisle \n",
    "percent_order_fulfilled = num_products_in_instacart_aisle_by_order / total_products_by_order\n",
    "\n",
    "print(percent_order_fulfilled)"
   ]
  },
  {
   "cell_type": "code",
   "execution_count": 27,
   "id": "d97482c5",
   "metadata": {
    "scrolled": true
   },
   "outputs": [
    {
     "data": {
      "text/plain": [
       "count    97828.000000\n",
       "mean         0.486572\n",
       "std          0.282587\n",
       "min          0.000000\n",
       "25%          0.285714\n",
       "50%          0.500000\n",
       "75%          0.687500\n",
       "max          1.000000\n",
       "dtype: float64"
      ]
     },
     "execution_count": 27,
     "metadata": {},
     "output_type": "execute_result"
    }
   ],
   "source": [
    "# Produce summary statistics on the percentage of items fulfilled via the instacart aisle (by order)\n",
    "percent_order_fulfilled.describe()"
   ]
  },
  {
   "cell_type": "code",
   "execution_count": 28,
   "id": "7c663e88",
   "metadata": {},
   "outputs": [
    {
     "name": "stdout",
     "output_type": "stream",
     "text": [
      "Number of orders that use instacart aisle: 87358\n",
      "Number of orders that don't use instacart aisle: 10470\n"
     ]
    }
   ],
   "source": [
    "# Filter orders with product count greater than 0\n",
    "orders_with_products_gt_zero = num_products_in_instacart_aisle_by_order[num_products_in_instacart_aisle_by_order > 0]\n",
    "\n",
    "# Calculate the number of orders with an instacart aisle product count greater than 0\n",
    "num_orders_with_products_gt_zero = len(orders_with_products_gt_zero)\n",
    "\n",
    "# Calculate the number of orders with no products in the instacart aisle\n",
    "orders_with_products_zero = num_products_in_instacart_aisle_by_order[num_products_in_instacart_aisle_by_order == 0]\n",
    "\n",
    "# Calculate the number of orders with an instacart aisle product count equal to 0 \n",
    "num_orders_with_products_zero = len(orders_with_products_zero)\n",
    "\n",
    "print(\"Number of orders that use instacart aisle:\", num_orders_with_products_gt_zero)\n",
    "print(\"Number of orders that don't use instacart aisle:\", num_orders_with_products_zero)\n"
   ]
  },
  {
   "cell_type": "code",
   "execution_count": 29,
   "id": "0a09a6ae",
   "metadata": {},
   "outputs": [],
   "source": [
    "# Create a csv file of the top 1000 products\n",
    "top_1000_products.to_csv(\"top_1000_products_final.csv\", encoding='utf8', index=False)"
   ]
  }
 ],
 "metadata": {
  "kernelspec": {
   "display_name": "PythonData",
   "language": "python",
   "name": "pythondata"
  },
  "language_info": {
   "codemirror_mode": {
    "name": "ipython",
    "version": 3
   },
   "file_extension": ".py",
   "mimetype": "text/x-python",
   "name": "python",
   "nbconvert_exporter": "python",
   "pygments_lexer": "ipython3",
   "version": "3.9.13"
  }
 },
 "nbformat": 4,
 "nbformat_minor": 5
}
