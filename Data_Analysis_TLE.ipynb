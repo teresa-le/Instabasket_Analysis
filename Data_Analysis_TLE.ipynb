{
 "cells": [
  {
   "cell_type": "code",
   "execution_count": 1,
   "id": "f2102913",
   "metadata": {},
   "outputs": [],
   "source": [
    "# Import the packages\n",
    "import matplotlib.pyplot as plt\n",
    "import scipy.stats as stats\n",
    "import numpy as np\n",
    "import pandas as pd"
   ]
  },
  {
   "cell_type": "markdown",
   "id": "79fb8312",
   "metadata": {},
   "source": [
    "# Analyze the Summary Statistics"
   ]
  },
  {
   "cell_type": "code",
   "execution_count": 2,
   "id": "dc2d4d03",
   "metadata": {},
   "outputs": [
    {
     "name": "stdout",
     "output_type": "stream",
     "text": [
      "        order_id  product_id                                   product_name  \\\n",
      "0              1       49302                               Bulgarian Yogurt   \n",
      "1              1       11109  Organic 4% Milk Fat Whole Milk Cottage Cheese   \n",
      "2              1       10246                          Organic Celery Hearts   \n",
      "3              1       49683                                 Cucumber Kirby   \n",
      "4              1       43633           Lightly Smoked Sardines in Olive Oil   \n",
      "...          ...         ...                                            ...   \n",
      "984965    100000       30169        Total 2% All Natural Plain Greek Yogurt   \n",
      "984966    100000       38734                           Wheat Sandwich Thins   \n",
      "984967    100000       36759         Unscented Long Lasting Stick Deodorant   \n",
      "984968    100000       37107                                   Ground Cumin   \n",
      "984969    100000       31506                         Extra Virgin Olive Oil   \n",
      "\n",
      "        aisle_id                 aisle  department_id     department  \n",
      "0            120                yogurt             16     dairy eggs  \n",
      "1            108  other creams cheeses             16     dairy eggs  \n",
      "2             83      fresh vegetables              4        produce  \n",
      "3             83      fresh vegetables              4        produce  \n",
      "4             95   canned meat seafood             15   canned goods  \n",
      "...          ...                   ...            ...            ...  \n",
      "984965       120                yogurt             16     dairy eggs  \n",
      "984966       128  tortillas flat bread              3         bakery  \n",
      "984967        80            deodorants             11  personal care  \n",
      "984968       104     spices seasonings             13         pantry  \n",
      "984969        19         oils vinegars             13         pantry  \n",
      "\n",
      "[984970 rows x 7 columns]\n"
     ]
    }
   ],
   "source": [
    "# load the data\n",
    "file_path = r'C:\\Users\\Teresa - School\\Documents\\Projects\\Rotman_Datathon_23\\clean_mma_mart.csv'\n",
    "\n",
    "mma_mart = pd.read_csv(file_path)\n",
    "\n",
    "# Preview the data\n",
    "print(mma_mart)"
   ]
  },
  {
   "cell_type": "code",
   "execution_count": 3,
   "id": "5cf15ca9",
   "metadata": {},
   "outputs": [
    {
     "name": "stdout",
     "output_type": "stream",
     "text": [
      "Count of distinct orders: 97828\n",
      "Count of distinct products: 34552\n",
      "Count of distinct aisles: 133\n",
      "Count of distinct departments: 20\n"
     ]
    }
   ],
   "source": [
    "# Count the number of orders \n",
    "distinct_orders = mma_mart['order_id'].nunique()\n",
    "print(\"Count of distinct orders:\", distinct_orders)\n",
    "\n",
    "# Count the number of products\n",
    "distinct_products = mma_mart['product_name'].nunique()\n",
    "print(\"Count of distinct products:\",distinct_products)\n",
    "\n",
    "# Count the number of aisles\n",
    "distinct_aisles = mma_mart['aisle_id'].nunique()\n",
    "print(\"Count of distinct aisles:\", distinct_aisles)\n",
    "\n",
    "# Count the number of departments\n",
    "distinct_dept = mma_mart['department_id'].nunique()\n",
    "print(\"Count of distinct departments:\", distinct_dept)"
   ]
  },
  {
   "cell_type": "code",
   "execution_count": 4,
   "id": "039ca524",
   "metadata": {},
   "outputs": [
    {
     "name": "stdout",
     "output_type": "stream",
     "text": [
      "Average Number of Products by Order: 10.068385329353559\n",
      "Average Number of Aisles by Order: 7.239910863965327\n",
      "Average Number of Departments by Order: 4.718485505172343\n"
     ]
    }
   ],
   "source": [
    "# Calculate the average number of of products by order\n",
    "avg_products_by_order = mma_mart.groupby('order_id')['product_name'].nunique().mean()\n",
    "print(\"Average Number of Products by Order:\", avg_products_by_order)\n",
    "\n",
    "# Calculate the average number of aisles by order \n",
    "avg_aisles_by_order = mma_mart.groupby('order_id')['aisle_id'].nunique().mean()\n",
    "print(\"Average Number of Aisles by Order:\", avg_aisles_by_order)\n",
    "\n",
    "# Calculate the average number of departments by order\n",
    "avg_dept_by_order = mma_mart.groupby('order_id')['department_id'].nunique().mean()\n",
    "print(\"Average Number of Departments by Order:\", avg_dept_by_order)"
   ]
  },
  {
   "cell_type": "markdown",
   "id": "eec32861",
   "metadata": {},
   "source": [
    "# Find the Top Products"
   ]
  },
  {
   "cell_type": "code",
   "execution_count": 5,
   "id": "c77458a1",
   "metadata": {},
   "outputs": [
    {
     "name": "stdout",
     "output_type": "stream",
     "text": [
      "Banana                                         14494\n",
      "Bag of Organic Bananas                         11694\n",
      "Organic Strawberries                            8081\n",
      "Organic Baby Spinach                            7369\n",
      "Organic Hass Avocado                            6411\n",
      "                                               ...  \n",
      "Multigrain Pita Chips                            166\n",
      "Frosted Mini-Wheats Original Cereal              165\n",
      "Crushed Tomatoes With Basil                      165\n",
      "Naked Green Machine Boosted Juice Smoothie       165\n",
      "Cannellini White Kidney Beans No Salt Added      165\n",
      "Name: product_name, Length: 1000, dtype: int64\n"
     ]
    }
   ],
   "source": [
    "# Count the number of times a product was purchased\n",
    "product_counts = mma_mart['product_name'].value_counts()\n",
    "\n",
    "# Take the top 1000 products \n",
    "top_products_by_count = product_counts.head(1000)\n",
    "print(top_products_by_count)"
   ]
  },
  {
   "cell_type": "code",
   "execution_count": 6,
   "id": "50774b87",
   "metadata": {},
   "outputs": [
    {
     "name": "stdout",
     "output_type": "stream",
     "text": [
      "       product_id                                    product_name  \\\n",
      "17302       24852                                          Banana   \n",
      "9083        13176                          Bag of Organic Bananas   \n",
      "14668       21137                            Organic Strawberries   \n",
      "15219       21903                            Organic Baby Spinach   \n",
      "32843       47209                            Organic Hass Avocado   \n",
      "...           ...                                             ...   \n",
      "15302       22013                                     Witch Hazel   \n",
      "15303       22014                           Udo's Oil 3-6-9 Blend   \n",
      "4218         6070                    Sesame Ginger Teriyaki Sauce   \n",
      "1239         1813                          Sodel Alm Mlk Wlnut 48   \n",
      "6169         8890  Light Parmesan Peppercorn Ranch Salad Dressing   \n",
      "\n",
      "       department_id     department  aisle_id                       aisle  \\\n",
      "17302              4        produce        24                fresh fruits   \n",
      "9083               4        produce        24                fresh fruits   \n",
      "14668              4        produce        24                fresh fruits   \n",
      "15219              4        produce       123  packaged vegetables fruits   \n",
      "32843              4        produce        24                fresh fruits   \n",
      "...              ...            ...       ...                         ...   \n",
      "15302             11  personal care       118                   first aid   \n",
      "15303             11  personal care        47        vitamins supplements   \n",
      "4218              13         pantry         5  marinades meat preparation   \n",
      "1239              16     dairy eggs        91             soy lactosefree   \n",
      "6169              13         pantry        89     salad dressing toppings   \n",
      "\n",
      "       count  \n",
      "17302  14494  \n",
      "9083   11694  \n",
      "14668   8081  \n",
      "15219   7369  \n",
      "32843   6411  \n",
      "...      ...  \n",
      "15302      1  \n",
      "15303      1  \n",
      "4218       1  \n",
      "1239       1  \n",
      "6169       1  \n",
      "\n",
      "[34552 rows x 7 columns]\n"
     ]
    }
   ],
   "source": [
    "top_product_counts = mma_mart.groupby(['product_id','product_name','department_id','department','aisle_id','aisle']).size().reset_index(name='count').sort_values(by='count', ascending=False)\n",
    "print(top_product_counts)"
   ]
  },
  {
   "cell_type": "code",
   "execution_count": 9,
   "id": "73ff527f",
   "metadata": {
    "scrolled": true
   },
   "outputs": [
    {
     "name": "stdout",
     "output_type": "stream",
     "text": [
      "        order_id  product_id                                   product_name  \\\n",
      "68             7       46802                               Pineapple Chunks   \n",
      "100           11       30162         Teriyaki & Pineapple Chicken Meatballs   \n",
      "114           12       38050  All Natural Boneless Skinless Chicken Breasts   \n",
      "118           12       29471                        Combination Pizza Rolls   \n",
      "135           14         162                 Organic Mini Homestyle Waffles   \n",
      "...          ...         ...                                            ...   \n",
      "984887     99993       43749                 Organic Ice Cream Vanilla Bean   \n",
      "984891     99993        5537   Dairy Free Coconut Milk Frozen Dessert Minis   \n",
      "984895     99993       26128                           Organic Mango Chunks   \n",
      "984921     99996        9434                            Bag of Large Lemons   \n",
      "984926     99996       32691                              Vanilla Ice Cream   \n",
      "\n",
      "        aisle_id                    aisle  department_id department  \n",
      "68           116           frozen produce              1     frozen  \n",
      "100           38             frozen meals              1     frozen  \n",
      "114           34      frozen meat seafood              1     frozen  \n",
      "118          129  frozen appetizers sides              1     frozen  \n",
      "135           52         frozen breakfast              1     frozen  \n",
      "...          ...                      ...            ...        ...  \n",
      "984887        37            ice cream ice              1     frozen  \n",
      "984891        37            ice cream ice              1     frozen  \n",
      "984895       116           frozen produce              1     frozen  \n",
      "984921        34      frozen meat seafood              1     frozen  \n",
      "984926        37            ice cream ice              1     frozen  \n",
      "\n",
      "[68202 rows x 7 columns]\n"
     ]
    }
   ],
   "source": [
    "# Extract the frozen foods  \n",
    "frozen_foods = mma_mart[mma_mart['department'].str.contains('frozen')]\n",
    "print(frozen_foods)"
   ]
  },
  {
   "cell_type": "code",
   "execution_count": 10,
   "id": "872de68b",
   "metadata": {},
   "outputs": [
    {
     "name": "stdout",
     "output_type": "stream",
     "text": [
      "      product_id                                       product_name  \\\n",
      "607         9076                                        Blueberries   \n",
      "1323       20995                           Organic Broccoli Florets   \n",
      "1542       24489                         Organic Whole Strawberries   \n",
      "1147       17948                    Frozen Organic Wild Blueberries   \n",
      "2945       46802                                   Pineapple Chunks   \n",
      "...          ...                                                ...   \n",
      "2303       36825                       Cookie Dough Grand Ice Cream   \n",
      "1547       24558       Strawberry Snickerdoole Ice Cream Sandwiches   \n",
      "484         7002      Chicken, Broccoli & Cheddar Frozen Sandwiches   \n",
      "2717       43493                Boneless Pork Rib Shaped Potty Meal   \n",
      "2606       41835  4 Pull-Apart Dipping Strips Four Cheese with M...   \n",
      "\n",
      "      department_id department  aisle_id           aisle  count  \n",
      "607               1     frozen       116  frozen produce   1759  \n",
      "1323              1     frozen       116  frozen produce   1040  \n",
      "1542              1     frozen       116  frozen produce    983  \n",
      "1147              1     frozen       116  frozen produce    921  \n",
      "2945              1     frozen       116  frozen produce    701  \n",
      "...             ...        ...       ...             ...    ...  \n",
      "2303              1     frozen        37   ice cream ice      1  \n",
      "1547              1     frozen        37   ice cream ice      1  \n",
      "484               1     frozen        38    frozen meals      1  \n",
      "2717              1     frozen        38    frozen meals      1  \n",
      "2606              1     frozen        79    frozen pizza      1  \n",
      "\n",
      "[3127 rows x 7 columns]\n"
     ]
    }
   ],
   "source": [
    "# Count the number of occurrences of each product in descending order and print the results \n",
    "frozen_product_counts = frozen_foods.groupby(['product_id','product_name','department_id','department','aisle_id','aisle']).size().reset_index(name='count').sort_values(by='count', ascending=False)\n",
    "\n",
    "print(frozen_product_counts)"
   ]
  },
  {
   "cell_type": "code",
   "execution_count": 11,
   "id": "1ec94915",
   "metadata": {},
   "outputs": [],
   "source": [
    "# Extract the top 100 frozen products sold \n",
    "top_frozen_products_sold = frozen_product_counts.head(100)\n",
    "\n",
    "# Create a csv \n",
    "top_frozen_products_sold.to_csv(\"top_frozen_products.csv\", encoding='utf8', index=False)"
   ]
  },
  {
   "cell_type": "code",
   "execution_count": 12,
   "id": "1188a0c4",
   "metadata": {},
   "outputs": [
    {
     "name": "stdout",
     "output_type": "stream",
     "text": [
      "        order_id  product_id                                   product_name  \\\n",
      "0              1       49302                               Bulgarian Yogurt   \n",
      "1              1       11109  Organic 4% Milk Fat Whole Milk Cottage Cheese   \n",
      "2              1       10246                          Organic Celery Hearts   \n",
      "3              1       49683                                 Cucumber Kirby   \n",
      "4              1       43633           Lightly Smoked Sardines in Olive Oil   \n",
      "...          ...         ...                                            ...   \n",
      "984965    100000       30169        Total 2% All Natural Plain Greek Yogurt   \n",
      "984966    100000       38734                           Wheat Sandwich Thins   \n",
      "984967    100000       36759         Unscented Long Lasting Stick Deodorant   \n",
      "984968    100000       37107                                   Ground Cumin   \n",
      "984969    100000       31506                         Extra Virgin Olive Oil   \n",
      "\n",
      "        aisle_id                 aisle  department_id     department  \n",
      "0            120                yogurt             16     dairy eggs  \n",
      "1            108  other creams cheeses             16     dairy eggs  \n",
      "2             83      fresh vegetables              4        produce  \n",
      "3             83      fresh vegetables              4        produce  \n",
      "4             95   canned meat seafood             15   canned goods  \n",
      "...          ...                   ...            ...            ...  \n",
      "984965       120                yogurt             16     dairy eggs  \n",
      "984966       128  tortillas flat bread              3         bakery  \n",
      "984967        80            deodorants             11  personal care  \n",
      "984968       104     spices seasonings             13         pantry  \n",
      "984969        19         oils vinegars             13         pantry  \n",
      "\n",
      "[916768 rows x 7 columns]\n"
     ]
    }
   ],
   "source": [
    "# Create a dataset excluding frozen products\n",
    "non_frozen_products = mma_mart[~mma_mart['department'].str.contains('frozen')]\n",
    "print(non_frozen_products)"
   ]
  },
  {
   "cell_type": "code",
   "execution_count": 13,
   "id": "6f1a3765",
   "metadata": {},
   "outputs": [
    {
     "name": "stdout",
     "output_type": "stream",
     "text": [
      "        order_id  product_id  \\\n",
      "0              1       49302   \n",
      "1              1       11109   \n",
      "7              1       22035   \n",
      "8              2       33120   \n",
      "17             3       33754   \n",
      "...          ...         ...   \n",
      "984952     99999       10034   \n",
      "984953     99999       44085   \n",
      "984954     99999        9558   \n",
      "984964    100000       30489   \n",
      "984965    100000       30169   \n",
      "\n",
      "                                             product_name  aisle_id  \\\n",
      "0                                        Bulgarian Yogurt       120   \n",
      "1           Organic 4% Milk Fat Whole Milk Cottage Cheese       108   \n",
      "7                             Organic Whole String Cheese        21   \n",
      "8                                      Organic Egg Whites        86   \n",
      "17      Total 2% with Strawberry Lowfat Greek Strained...       120   \n",
      "...                                                   ...       ...   \n",
      "984952                Reduced Fat Mozarella String Cheese        21   \n",
      "984953                   Vanilla Light & Fit Greek Yogurt       120   \n",
      "984954               Non-Fat Vanilla Blended Greek Yogurt       120   \n",
      "984964                                    Original Hummus        67   \n",
      "984965            Total 2% All Natural Plain Greek Yogurt       120   \n",
      "\n",
      "                       aisle  department_id  department  \n",
      "0                     yogurt             16  dairy eggs  \n",
      "1       other creams cheeses             16  dairy eggs  \n",
      "7            packaged cheese             16  dairy eggs  \n",
      "8                       eggs             16  dairy eggs  \n",
      "17                    yogurt             16  dairy eggs  \n",
      "...                      ...            ...         ...  \n",
      "984952       packaged cheese             16  dairy eggs  \n",
      "984953                yogurt             16  dairy eggs  \n",
      "984954                yogurt             16  dairy eggs  \n",
      "984964  fresh dips tapenades             20        deli  \n",
      "984965                yogurt             16  dairy eggs  \n",
      "\n",
      "[218064 rows x 7 columns]\n"
     ]
    }
   ],
   "source": [
    "# Create a list of departments with refrigerated products\n",
    "list_refrigerated_dept = ['dairy eggs', 'meat seafood','deli']\n",
    "\n",
    "# Filter for refridgerated products \n",
    "refrigerated_products = mma_mart[mma_mart['department'].str.contains('|'.join(list_refrigerated_dept))]\n",
    "\n",
    "print(refrigerated_products)"
   ]
  },
  {
   "cell_type": "code",
   "execution_count": 14,
   "id": "2a5f45ff",
   "metadata": {},
   "outputs": [
    {
     "name": "stdout",
     "output_type": "stream",
     "text": [
      "      product_id                                       product_name  \\\n",
      "2606       27845                                 Organic Whole Milk   \n",
      "4604       49235                                Organic Half & Half   \n",
      "2847       30489                                    Original Hummus   \n",
      "2533       27086                                        Half & Half   \n",
      "2054       22035                        Organic Whole String Cheese   \n",
      "...          ...                                                ...   \n",
      "2917       31167                 Natural Casing Old Fashion Wieners   \n",
      "3903       41904          Kefir, Organic, Mango, Orange & Pineapple   \n",
      "3904       41907                                    Cured Salt Pork   \n",
      "802         8905  Salumeria Salamini Series Columbus Peppered Sa...   \n",
      "0              9                  Light Strawberry Blueberry Yogurt   \n",
      "\n",
      "      department_id    department  aisle_id                   aisle  count  \n",
      "2606             16    dairy eggs        84                    milk   4089  \n",
      "4604             16    dairy eggs        53                   cream   2401  \n",
      "2847             20          deli        67    fresh dips tapenades   2136  \n",
      "2533             16    dairy eggs        53                   cream   2061  \n",
      "2054             16    dairy eggs        21         packaged cheese   1783  \n",
      "...             ...           ...       ...                     ...    ...  \n",
      "2917             12  meat seafood       106  hot dogs bacon sausage      1  \n",
      "3903             16    dairy eggs       120                  yogurt      1  \n",
      "3904             12  meat seafood         7           packaged meat      1  \n",
      "802              20          deli        96              lunch meat      1  \n",
      "0                16    dairy eggs       120                  yogurt      1  \n",
      "\n",
      "[4647 rows x 7 columns]\n"
     ]
    }
   ],
   "source": [
    "# Count the number of refrigerated products by product name \n",
    "refrigerated_product_counts = refrigerated_products.groupby(['product_id','product_name','department_id','department','aisle_id','aisle']).size().reset_index(name='count').sort_values(by='count', ascending=False)\n",
    "\n",
    "# Preview the results \n",
    "print(refrigerated_product_counts)"
   ]
  },
  {
   "cell_type": "code",
   "execution_count": 15,
   "id": "6fede70c",
   "metadata": {},
   "outputs": [],
   "source": [
    "# Extract the top 100 refridgerated products sold \n",
    "top_refrigerated_products_sold = refrigerated_product_counts.head(100)\n",
    "\n",
    "# Create a csv \n",
    "top_refrigerated_products_sold.to_csv(\"top_refrigerated_products_sold.csv\", encoding='utf8', index=False)"
   ]
  },
  {
   "cell_type": "code",
   "execution_count": 16,
   "id": "f976a343",
   "metadata": {},
   "outputs": [
    {
     "name": "stdout",
     "output_type": "stream",
     "text": [
      "        order_id  product_id                            product_name  \\\n",
      "2              1       10246                   Organic Celery Hearts   \n",
      "3              1       49683                          Cucumber Kirby   \n",
      "4              1       43633    Lightly Smoked Sardines in Olive Oil   \n",
      "5              1       13176                  Bag of Organic Bananas   \n",
      "6              1       47209                    Organic Hass Avocado   \n",
      "...          ...         ...                                     ...   \n",
      "984963    100000       19508                          Corn Tortillas   \n",
      "984966    100000       38734                    Wheat Sandwich Thins   \n",
      "984967    100000       36759  Unscented Long Lasting Stick Deodorant   \n",
      "984968    100000       37107                            Ground Cumin   \n",
      "984969    100000       31506                  Extra Virgin Olive Oil   \n",
      "\n",
      "        aisle_id                 aisle  department_id     department  \n",
      "2             83      fresh vegetables              4        produce  \n",
      "3             83      fresh vegetables              4        produce  \n",
      "4             95   canned meat seafood             15   canned goods  \n",
      "5             24          fresh fruits              4        produce  \n",
      "6             24          fresh fruits              4        produce  \n",
      "...          ...                   ...            ...            ...  \n",
      "984963       128  tortillas flat bread              3         bakery  \n",
      "984966       128  tortillas flat bread              3         bakery  \n",
      "984967        80            deodorants             11  personal care  \n",
      "984968       104     spices seasonings             13         pantry  \n",
      "984969        19         oils vinegars             13         pantry  \n",
      "\n",
      "[698704 rows x 7 columns]\n"
     ]
    }
   ],
   "source": [
    "# Subset data for non-frozen and non-refridgerated products\n",
    "non_frozen_refrigerated_products = non_frozen_products[~non_frozen_products['department'].isin(refrigerated_products['department'])]\n",
    "\n",
    "# Preview the results \n",
    "print(non_frozen_refrigerated_products)"
   ]
  },
  {
   "cell_type": "code",
   "execution_count": 17,
   "id": "a389d116",
   "metadata": {},
   "outputs": [
    {
     "name": "stdout",
     "output_type": "stream",
     "text": [
      "Empty DataFrame\n",
      "Columns: [order_id, product_id, product_name, aisle_id, aisle, department_id, department]\n",
      "Index: []\n"
     ]
    }
   ],
   "source": [
    "# Check the results \n",
    "print(non_frozen_refrigerated_products[non_frozen_refrigerated_products['department'].str.contains('deli')])"
   ]
  },
  {
   "cell_type": "code",
   "execution_count": null,
   "id": "f04c8589",
   "metadata": {},
   "outputs": [],
   "source": [
    "# Create a "
   ]
  },
  {
   "cell_type": "markdown",
   "id": "b784b764",
   "metadata": {},
   "source": [
    "# Finding the Top Products"
   ]
  },
  {
   "cell_type": "code",
   "execution_count": null,
   "id": "1ad8e007",
   "metadata": {},
   "outputs": [],
   "source": []
  }
 ],
 "metadata": {
  "kernelspec": {
   "display_name": "PythonData",
   "language": "python",
   "name": "pythondata"
  },
  "language_info": {
   "codemirror_mode": {
    "name": "ipython",
    "version": 3
   },
   "file_extension": ".py",
   "mimetype": "text/x-python",
   "name": "python",
   "nbconvert_exporter": "python",
   "pygments_lexer": "ipython3",
   "version": "3.9.13"
  }
 },
 "nbformat": 4,
 "nbformat_minor": 5
}
