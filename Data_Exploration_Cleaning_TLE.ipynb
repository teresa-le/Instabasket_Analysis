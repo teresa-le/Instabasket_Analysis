{
 "cells": [
  {
   "cell_type": "code",
   "execution_count": 15,
   "id": "c8bba369",
   "metadata": {},
   "outputs": [],
   "source": [
    "# Import the packages\n",
    "import pandas as pd "
   ]
  },
  {
   "cell_type": "markdown",
   "id": "fdc42be1",
   "metadata": {},
   "source": [
    "## Load and Check the Data"
   ]
  },
  {
   "cell_type": "code",
   "execution_count": 3,
   "id": "8562e645",
   "metadata": {},
   "outputs": [
    {
     "name": "stdout",
     "output_type": "stream",
     "text": [
      "        order_id  product_id                                   product_name  \\\n",
      "0              1       49302                               Bulgarian Yogurt   \n",
      "1              1       11109  Organic 4% Milk Fat Whole Milk Cottage Cheese   \n",
      "2              1       10246                          Organic Celery Hearts   \n",
      "3              1       49683                                 Cucumber Kirby   \n",
      "4              1       43633           Lightly Smoked Sardines in Olive Oil   \n",
      "...          ...         ...                                            ...   \n",
      "987254    100000       30169        Total 2% All Natural Plain Greek Yogurt   \n",
      "987255    100000       38734                           Wheat Sandwich Thins   \n",
      "987256    100000       36759         Unscented Long Lasting Stick Deodorant   \n",
      "987257    100000       37107                                   Ground Cumin   \n",
      "987258    100000       31506                         Extra Virgin Olive Oil   \n",
      "\n",
      "        aisle_id                 aisle  department_id     department  \n",
      "0            120                yogurt             16     dairy eggs  \n",
      "1            108  other creams cheeses             16     dairy eggs  \n",
      "2             83      fresh vegetables              4        produce  \n",
      "3             83      fresh vegetables              4        produce  \n",
      "4             95   canned meat seafood             15   canned goods  \n",
      "...          ...                   ...            ...            ...  \n",
      "987254       120                yogurt             16     dairy eggs  \n",
      "987255       128  tortillas flat bread              3         bakery  \n",
      "987256        80            deodorants             11  personal care  \n",
      "987257       104     spices seasonings             13         pantry  \n",
      "987258        19         oils vinegars             13         pantry  \n",
      "\n",
      "[987259 rows x 7 columns]\n"
     ]
    }
   ],
   "source": [
    "# load the data\n",
    "file_path = r'C:\\Users\\Teresa - School\\Documents\\Projects\\Rotman_Datathon_23\\mma_mart.csv'\n",
    "\n",
    "mma_mart = pd.read_csv(file_path)\n",
    "\n",
    "# Preview the data\n",
    "print(mma_mart)"
   ]
  },
  {
   "cell_type": "code",
   "execution_count": 6,
   "id": "3e29e0b0",
   "metadata": {},
   "outputs": [
    {
     "name": "stdout",
     "output_type": "stream",
     "text": [
      "order_id         0\n",
      "product_id       0\n",
      "product_name     0\n",
      "aisle_id         0\n",
      "aisle            0\n",
      "department_id    0\n",
      "department       0\n",
      "dtype: int64\n"
     ]
    }
   ],
   "source": [
    "# Check for missing values\n",
    "\n",
    "print(mma_mart.isnull().sum())"
   ]
  },
  {
   "cell_type": "code",
   "execution_count": 41,
   "id": "41d8f79c",
   "metadata": {},
   "outputs": [
    {
     "data": {
      "text/plain": [
       "order_id          int64\n",
       "product_id        int64\n",
       "product_name     object\n",
       "aisle_id          int64\n",
       "aisle            object\n",
       "department_id     int64\n",
       "department       object\n",
       "dtype: object"
      ]
     },
     "execution_count": 41,
     "metadata": {},
     "output_type": "execute_result"
    }
   ],
   "source": [
    "# Check the data types\n",
    "\n",
    "mma_mart.dtypes"
   ]
  },
  {
   "cell_type": "markdown",
   "id": "532ce501",
   "metadata": {},
   "source": [
    "# #  Count the Number of Values by Column"
   ]
  },
  {
   "cell_type": "code",
   "execution_count": 29,
   "id": "3d57bfcc",
   "metadata": {},
   "outputs": [],
   "source": [
    "# Count the number of values by product_name\n",
    "# Import the counter module \n",
    "from collections import Counter\n",
    "\n",
    "product_name_values = mma_mart['product_name']\n",
    "product_name_counts = Counter(product_name_values) \n",
    "\n",
    "# Count the number of values by aisle names\n",
    "aisle_name_values = mma_mart['aisle']\n",
    "aisle_name_counts = Counter(aisle_name_values)\n",
    "\n",
    "# Count the number of values by department names \n",
    "department_name_values = mma_mart['department']\n",
    "department_name_counts = Counter(department_name_values)"
   ]
  },
  {
   "cell_type": "code",
   "execution_count": 55,
   "id": "a837b923",
   "metadata": {},
   "outputs": [
    {
     "name": "stdout",
     "output_type": "stream",
     "text": [
      "                                        Product Name  Product Name Count\n",
      "0                                   Bulgarian Yogurt                   5\n",
      "1      Organic 4% Milk Fat Whole Milk Cottage Cheese                 134\n",
      "2                              Organic Celery Hearts                 775\n",
      "3                                     Cucumber Kirby                2905\n",
      "4               Lightly Smoked Sardines in Olive Oil                  14\n",
      "...                                              ...                 ...\n",
      "35065                           Special Cocoa Spread                   1\n",
      "35066                     Small Batch 9 Year Bourbon                   1\n",
      "35067                       Sliced Colby Jack Cheese                   1\n",
      "35068                                Peppermint Bark                   1\n",
      "35069              Healthy Trinity, 3 in 1, Capsules                   1\n",
      "\n",
      "[35070 rows x 2 columns]\n"
     ]
    }
   ],
   "source": [
    "# Create dataframes for each list of values \n",
    "product_df = pd.DataFrame(list(product_name_counts.items()), columns=['Product Name', 'Product Name Count'])\n",
    "aisle_df = pd.DataFrame(list(aisle_name_counts.items()), columns=['Aisle Name', 'Aisle Name Count'])\n",
    "department_df = pd.DataFrame(list(department_name_counts.items()), columns=['Department Name', 'Department Count'])\n",
    "\n",
    "# Preview the results \n",
    "print(product_df)"
   ]
  },
  {
   "cell_type": "code",
   "execution_count": 59,
   "id": "7fdc1cc2",
   "metadata": {},
   "outputs": [
    {
     "name": "stdout",
     "output_type": "stream",
     "text": [
      "[                                        Product Name  Product Name Count\n",
      "0                                   Bulgarian Yogurt                   5\n",
      "1      Organic 4% Milk Fat Whole Milk Cottage Cheese                 134\n",
      "2                              Organic Celery Hearts                 775\n",
      "3                                     Cucumber Kirby                2905\n",
      "4               Lightly Smoked Sardines in Olive Oil                  14\n",
      "...                                              ...                 ...\n",
      "35065                           Special Cocoa Spread                   1\n",
      "35066                     Small Batch 9 Year Bourbon                   1\n",
      "35067                       Sliced Colby Jack Cheese                   1\n",
      "35068                                Peppermint Bark                   1\n",
      "35069              Healthy Trinity, 3 in 1, Capsules                   1\n",
      "\n",
      "[35070 rows x 2 columns],                      Aisle Name  Aisle Name Count\n",
      "0                        yogurt             43857\n",
      "1          other creams cheeses              9374\n",
      "2              fresh vegetables            103891\n",
      "3           canned meat seafood              2131\n",
      "4                  fresh fruits            110888\n",
      "..                          ...               ...\n",
      "129                   first aid               299\n",
      "130                 white wines               916\n",
      "131                eye ear care               278\n",
      "132                   skin care               315\n",
      "133  specialty wines champagnes               347\n",
      "\n",
      "[134 rows x 2 columns],     Department Name  Department Count\n",
      "0        dairy eggs            164468\n",
      "1           produce            288775\n",
      "2      canned goods             32486\n",
      "3            pantry             56681\n",
      "4      meat seafood             21588\n",
      "5            bakery             35806\n",
      "6     personal care             13773\n",
      "7            snacks             88093\n",
      "8         breakfast             21585\n",
      "9         beverages             81923\n",
      "10             deli             32008\n",
      "11        household             22445\n",
      "12    international              8248\n",
      "13  dry goods pasta             26096\n",
      "14           frozen             68202\n",
      "15           babies             12872\n",
      "16             pets              3157\n",
      "17          alcohol              4580\n",
      "18             bulk              1087\n",
      "19          missing              2289\n",
      "20            other              1097]\n"
     ]
    }
   ],
   "source": [
    "# Combine counts by putting them into a list\n",
    "combined_dfs = [product_df, aisle_df, department_df]\n",
    "\n",
    "# Preview results\n",
    "print(combined_dfs)"
   ]
  },
  {
   "cell_type": "code",
   "execution_count": 61,
   "id": "fca1de45",
   "metadata": {},
   "outputs": [
    {
     "name": "stdout",
     "output_type": "stream",
     "text": [
      "                                     Product Name  Product Name Count  \\\n",
      "0                                Bulgarian Yogurt                 5.0   \n",
      "1   Organic 4% Milk Fat Whole Milk Cottage Cheese               134.0   \n",
      "2                           Organic Celery Hearts               775.0   \n",
      "3                                  Cucumber Kirby              2905.0   \n",
      "4            Lightly Smoked Sardines in Olive Oil                14.0   \n",
      "..                                            ...                 ...   \n",
      "16                                            NaN                 NaN   \n",
      "17                                            NaN                 NaN   \n",
      "18                                            NaN                 NaN   \n",
      "19                                            NaN                 NaN   \n",
      "20                                            NaN                 NaN   \n",
      "\n",
      "   Aisle Name  Aisle Name Count Department Name  Department Count  \n",
      "0         NaN               NaN             NaN               NaN  \n",
      "1         NaN               NaN             NaN               NaN  \n",
      "2         NaN               NaN             NaN               NaN  \n",
      "3         NaN               NaN             NaN               NaN  \n",
      "4         NaN               NaN             NaN               NaN  \n",
      "..        ...               ...             ...               ...  \n",
      "16        NaN               NaN            pets            3157.0  \n",
      "17        NaN               NaN         alcohol            4580.0  \n",
      "18        NaN               NaN            bulk            1087.0  \n",
      "19        NaN               NaN         missing            2289.0  \n",
      "20        NaN               NaN           other            1097.0  \n",
      "\n",
      "[35225 rows x 6 columns]\n"
     ]
    }
   ],
   "source": [
    "# Turn list into dataframe\n",
    "combined_df = pd.concat(combined_dfs)\n",
    "\n",
    "print(combined_df)"
   ]
  },
  {
   "cell_type": "code",
   "execution_count": 62,
   "id": "9f1914dd",
   "metadata": {},
   "outputs": [],
   "source": [
    "# Write data to csv file \n",
    "combined_df.to_csv(\"combined_counts.csv\", encoding='utf8', index=False)"
   ]
  }
 ],
 "metadata": {
  "kernelspec": {
   "display_name": "PythonData",
   "language": "python",
   "name": "pythondata"
  },
  "language_info": {
   "codemirror_mode": {
    "name": "ipython",
    "version": 3
   },
   "file_extension": ".py",
   "mimetype": "text/x-python",
   "name": "python",
   "nbconvert_exporter": "python",
   "pygments_lexer": "ipython3",
   "version": "3.9.13"
  }
 },
 "nbformat": 4,
 "nbformat_minor": 5
}
